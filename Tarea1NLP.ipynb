{
  "nbformat": 4,
  "nbformat_minor": 0,
  "metadata": {
    "colab": {
      "name": "Tarea1NLP",
      "provenance": [],
      "collapsed_sections": [
        "G2F9bojGhf3u",
        "r8LpJtbdhC3W",
        "XOeI8gKOj7q9",
        "9BxldI6_j-yF",
        "_dWpSShukGS1",
        "cekaKd3Nk9zX",
        "RNmOIV7MlJaV",
        "e8j6pP9nlMmG",
        "1MUihUqGlRNv",
        "-HRuHAv0muuX",
        "dueTrQ-km6vP",
        "yAi-cXtBnOUQ",
        "7qxK3hsbhZdW",
        "k1y0TojL0J78",
        "kWVyQA7C0VXb",
        "tVIyzFuJ0Zyj",
        "1jMg_p1r0gtK"
      ]
    },
    "kernelspec": {
      "display_name": "Python 3",
      "name": "python3"
    },
    "language_info": {
      "name": "python"
    }
  },
  "cells": [
    {
      "cell_type": "markdown",
      "metadata": {
        "id": "HMsi2OeqRsl-"
      },
      "source": [
        "#Tarea 1: Tokenización de corpus en subpalabras\n",
        "\n",
        "\n",
        "*   Lázaro Martínez Abraham Josué\n",
        "*   Martínez Gutiérrez Carlos Giovanni\n",
        "*   Díaz Segura Mauricio Iván\n",
        "\n"
      ]
    },
    {
      "cell_type": "markdown",
      "metadata": {
        "id": "Wv4ifskhSa0w"
      },
      "source": [
        "**Objetivo:** Preprocesar un corpus a partir de métodos basados en lenguajes\n",
        "formales y tokenizarlo en subpalabras.\n",
        "\n",
        "Pasos a seguir:\n",
        "1. Escoger un corpus de cualquier idioma y de un tamaño mayor a 10 000\n",
        "tokens (se puede tomar este corpus de la paquetería *nltk.corpus*). Este\n",
        "corpus se usará a lo largo del curso.\n",
        "\n",
        "2. Limpiar el corpus: eliminar signos de puntuación, de interrogación, admiración y elementos no léxicos, y en general aquellos elementos ruidosos.\n",
        "\n",
        "3. Aplicar el algoritmo de BPE al corpus para obtener subpalabras:\n",
        "  \n",
        "  a) Formar un vocabulario inicial: cada palabra se asocia a la cadena de\n",
        "caracteres.\n",
        "  \n",
        "  b) Seleccionar el número de iteraciones que mejor se adapte al corpus\n",
        "elegido.\n",
        "\n",
        "  c) Obtener el vocabulario final: cada palabra se asocia a la cadena de\n",
        "subpalabras.\n",
        "\n",
        "  d) Sustituir en el corpus las palabras por la tokenización en subpalabras\n",
        "obtenidas."
      ]
    },
    {
      "cell_type": "markdown",
      "metadata": {
        "id": "G2F9bojGhf3u"
      },
      "source": [
        "# Instalación y carga de datos"
      ]
    },
    {
      "cell_type": "markdown",
      "metadata": {
        "id": "Lz6bDek7jMDu"
      },
      "source": [
        "La única biblioteca que es necesario instalar de forma manual es **Elotl**, donde encontraremos el corpus de **Otomí**."
      ]
    },
    {
      "cell_type": "code",
      "metadata": {
        "colab": {
          "base_uri": "https://localhost:8080/"
        },
        "id": "sxOra6kwc-x7",
        "outputId": "e71a9c1c-5ef0-4cb1-ac3b-a7943bc1865b"
      },
      "source": [
        "!pip install elotl\n",
        "# https://github.com/ElotlMX/py-elotl\n",
        "# http://filosofia.uaq.mx/yaak/fils/otomi/gd/gramothek.pdf"
      ],
      "execution_count": null,
      "outputs": [
        {
          "output_type": "stream",
          "name": "stdout",
          "text": [
            "Collecting elotl\n",
            "  Downloading elotl-0.0.1.16-py3-none-any.whl (2.2 MB)\n",
            "\u001b[K     |████████████████████████████████| 2.2 MB 5.1 MB/s \n",
            "\u001b[?25hRequirement already satisfied: future in /usr/local/lib/python3.7/dist-packages (from elotl) (0.16.0)\n",
            "Requirement already satisfied: importlib-resources in /usr/local/lib/python3.7/dist-packages (from elotl) (5.2.2)\n",
            "Requirement already satisfied: zipp>=3.1.0 in /usr/local/lib/python3.7/dist-packages (from importlib-resources->elotl) (3.6.0)\n",
            "Installing collected packages: elotl\n",
            "Successfully installed elotl-0.0.1.16\n"
          ]
        }
      ]
    },
    {
      "cell_type": "markdown",
      "metadata": {
        "id": "GTIgODFRi79W"
      },
      "source": [
        "Importamos las bibliotecas necesarias. Ocupamos ```Counter``` para sacar las frecuencias de palabras de forma rápida. Ocupamos ```itemgetter``` como función de ordenamiento de las frecuencias."
      ]
    },
    {
      "cell_type": "code",
      "metadata": {
        "id": "Ygif9xPydAWj"
      },
      "source": [
        "import elotl.corpus \n",
        "from collections import Counter\n",
        "from operator import itemgetter\n",
        "import matplotlib.pyplot as plt\n",
        "import numpy as np"
      ],
      "execution_count": null,
      "outputs": []
    },
    {
      "cell_type": "markdown",
      "metadata": {
        "id": "r8LpJtbdhC3W"
      },
      "source": [
        "# Implementación de BPE\n"
      ]
    },
    {
      "cell_type": "markdown",
      "metadata": {
        "id": "XOeI8gKOj7q9"
      },
      "source": [
        "## Funciones auxiliares"
      ]
    },
    {
      "cell_type": "markdown",
      "metadata": {
        "id": "pTdEGJwXjX7G"
      },
      "source": [
        "Aquí ponermos las funciones auxiliares para utilizar el algoritmo **BPE**"
      ]
    },
    {
      "cell_type": "code",
      "metadata": {
        "id": "zc3GUoFptllO"
      },
      "source": [
        "def generar_caracteres(corpus):\n",
        "  '''Nos genera un conjunto que separa las palabras en caracteres\n",
        "\n",
        "  Parámetros\n",
        "  corpus: Corpus. Lista de oraciones. Las oraciones son listas de palabras'''\n",
        "  conjunto = list()\n",
        "  # por cada oración del corpus\n",
        "  for oracion in corpus:\n",
        "    nueva_oracion = list()\n",
        "    # por cada palabra de la oración\n",
        "    for palabra in oracion:\n",
        "      nueva_palabra = list(\"\".join(palabra.split()))\n",
        "      nueva_oracion.append(nueva_palabra)\n",
        "    conjunto.append(nueva_oracion)\n",
        "  \n",
        "  return conjunto\n",
        "\n",
        "def generar_pares(conjunto):\n",
        "  '''Genera los pares de caracteres por palabras\n",
        "\n",
        "  Parámetro\n",
        "  conjunto: lista de oraciones de palabras separadas por caracteres\n",
        "  '''\n",
        "  pares_conjunto = list()\n",
        "  for oracion in conjunto:\n",
        "    for palabra in oracion:\n",
        "      if len(palabra)==1:\n",
        "        continue\n",
        "      pares = [palabra[i]+palabra[i+1] for i in range(len(palabra)-1)]\n",
        "      pares_conjunto.extend(pares)\n",
        "  \n",
        "  return pares_conjunto\n",
        "\n",
        "def freqs_ordenado(freqs):\n",
        "  '''Regresa una lista con los pares de caracteres y sus frecuencias\n",
        "  \n",
        "  Parámetro\n",
        "  freqs: frecuencia (objeto Counter o diccionario) de las palabras en el\n",
        "  corpus\n",
        "  '''\n",
        "  # Generamos una lista con los items (key,value) del counter, \n",
        "  # ordenandolos por el value (conteo)\n",
        "  return sorted(freqs.items(), key=itemgetter(1), reverse=True)\n",
        "\n",
        "def generar_nuevo_conjunto(mf,conjunto):\n",
        "  '''Genera un nuevo corpus juntando en un caracter el par de caracteres\n",
        "  más frecuente\n",
        "  \n",
        "  Parámetros\n",
        "  mf: Elemento o par más frecuente\n",
        "  conjunto: Corpus separado\n",
        "  '''\n",
        "  # generamos un conjunto de oraciones nuevo\n",
        "  new_conjunto = list()\n",
        "  # para cada oración del conjunto \n",
        "  for oracion in conjunto:\n",
        "    new_oracion = list()\n",
        "    # para cada palabra de la oración\n",
        "    for palabra in oracion:\n",
        "      new_palabra = list()\n",
        "      i = 1\n",
        "      # si la palabra tiene por lo menos dos caracteres para formar un par\n",
        "      if len(palabra)>1: \n",
        "        # iteramos cada palabra, comparando por pares, empezamos en el \n",
        "        # indice 1 pero siempre agregamos el elemento i-1 en caso de no\n",
        "        # ser parte del par mf. \n",
        "        while i < len(palabra):\n",
        "          # si es parte del par mf\n",
        "          if palabra[i-1]+palabra[i] == mf:\n",
        "            new_palabra.append(palabra[i-1]+palabra[i])\n",
        "            i+=1\n",
        "          # si no es parte del par mf\n",
        "          else:\n",
        "            new_palabra.append(palabra[i-1])\n",
        "          # Valida si es el último\n",
        "          if i == len(palabra)-1:\n",
        "            new_palabra.append(palabra[i])\n",
        "          i+=1\n",
        "      # si la palabra tiene solo un elemento\n",
        "      else:\n",
        "        # se agrega tal cual a la nueva oración\n",
        "        new_palabra = palabra\n",
        "      new_oracion.append(new_palabra)\n",
        "    # se agrega la nueva oración al nuevo conjunto\n",
        "    new_conjunto.append(new_oracion)\n",
        "\n",
        "  return new_conjunto\n",
        "\n",
        "def limpiar(conjunto):\n",
        "  '''Regresa una lista con todas las palabras'''\n",
        "  nc = list()\n",
        "  for oracion in conjunto:\n",
        "    n_oracion = list()\n",
        "    for palabra in oracion:\n",
        "      n_oracion.extend(palabra)\n",
        "    nc.extend(n_oracion)\n",
        "\n",
        "  return nc "
      ],
      "execution_count": null,
      "outputs": []
    },
    {
      "cell_type": "markdown",
      "metadata": {
        "id": "Ewl3uMlJkSlg"
      },
      "source": [
        "Función para calcular la entropía de la representación del corpus. De un modelo del lenguaje."
      ]
    },
    {
      "cell_type": "code",
      "metadata": {
        "id": "O0n80vFRNKqq"
      },
      "source": [
        "def entropia(palabras):\n",
        "  # Frecuencia de cada simbolo en el vocabulario\n",
        "  fr = Counter(palabras)\n",
        "  \n",
        "  freq = np.array(list(fr.values()))\n",
        "\n",
        "  # Probabilidad de los simbolos\n",
        "  p = freq/freq.sum()\n",
        "  # Entropía del vocabulario\n",
        "  H = (np.log(p).sum())/(-len(p))\n",
        "\n",
        "  return H"
      ],
      "execution_count": null,
      "outputs": []
    },
    {
      "cell_type": "markdown",
      "metadata": {
        "id": "t6VpffJlleou"
      },
      "source": [
        "Función que genera las señalizaciones de continuación de palabras, para el futuro rescate de las traducciones."
      ]
    },
    {
      "cell_type": "code",
      "metadata": {
        "id": "p5ZwnhKPld4m"
      },
      "source": [
        "def delimitadorPalabras(lenguaje_BPE):\n",
        "  '''Genera un corpus de oraciones con los delimitadores'''\n",
        "  lengua_nueva = []\n",
        "  for oracion in lenguaje_BPE:\n",
        "    lengua_nueva.append(\" \".join([\"@@ \".join(palabra) for palabra in oracion]))\n",
        "\n",
        "  return lengua_nueva"
      ],
      "execution_count": null,
      "outputs": []
    },
    {
      "cell_type": "markdown",
      "metadata": {
        "id": "9BxldI6_j-yF"
      },
      "source": [
        "## Implementación concreta, función BPE"
      ]
    },
    {
      "cell_type": "code",
      "metadata": {
        "id": "PeGBbqb_hCZP"
      },
      "source": [
        "def BPE(corpus, n_iteraciones = 100):\n",
        "  '''Implementación de BPE\n",
        "  \n",
        "  Parámetros\n",
        "  corpus: corpus de forma lista de oraciones/documentos\n",
        "\n",
        "  return corpus segmentado por subwords y lista de entropía\n",
        "  '''\n",
        "  # separamos por caracteres\n",
        "  conjunto = generar_caracteres(corpus)\n",
        "\n",
        "  # Entropias\n",
        "  H = list()\n",
        "\n",
        "  # Iteraciones del BPE\n",
        "  for iteracion in range(n_iteraciones):\n",
        "\n",
        "    print(\"ITERACIÓN \"+str(iteracion+1),end=\"\")\n",
        "\n",
        "    # Generamos los pares de caracteres\n",
        "    pares = generar_pares(conjunto)\n",
        "\n",
        "    # contamos la frecuencia de los pares en la lista con Counter\n",
        "    freqs = Counter(pares)\n",
        "    freqs = freqs_ordenado(freqs)  \n",
        "    #print(\"\\tFrecuencias:\",dict(freqs[:10]))\n",
        "\n",
        "    # Obtenemos el elemento con mayor frecuencia\n",
        "    mf = freqs[0][0]\n",
        "    val = freqs[0][1]\n",
        "    print(\"\\tMas frecuente: {} \\t- {}\".format(mf,val))\n",
        "\n",
        "    # imprimimos el antes y el después\n",
        "    #print(\"\\tantes:\",conjunto[0])\n",
        "    conjunto = generar_nuevo_conjunto(mf,conjunto)\n",
        "    #print(\"\\tdespues:\",conjunto[0])\n",
        "\n",
        "    H.append(entropia(limpiar(conjunto)))\n",
        "  \n",
        "  return delimitadorPalabras(conjunto),H"
      ],
      "execution_count": null,
      "outputs": []
    },
    {
      "cell_type": "markdown",
      "metadata": {
        "id": "_dWpSShukGS1"
      },
      "source": [
        "# Función que proporciona el preprocesamiento del corpus"
      ]
    },
    {
      "cell_type": "markdown",
      "metadata": {
        "id": "yoWw7qydkeBv"
      },
      "source": [
        "En este caso, al ser un corpus pequeño, decidimos tomar todo en minúsculas ya que, al contemplar las palabras con una mayúscula como una palabra (o subpalabra) diferente, el tamaño del corpus se notará aún más pequeño."
      ]
    },
    {
      "cell_type": "code",
      "metadata": {
        "id": "H5p6y2qdogen"
      },
      "source": [
        "def pre_proceso(corpus):\n",
        "  # Lo juntamos para poder quitar los elementos no lexicos facilmente\n",
        "  doc=\"\\n\".join(corpus).lower() # Checar si debe estar en minusculas ***********\n",
        "  # Checar si quitamos números *************************************************\n",
        "  # Quitamos elementos no lexicos\n",
        "  no_lex = list(\"{}¿?[]“”=…\\t«»•_¡!;:(),.-—*\"+'‘'+'\"'+'ʼ')\n",
        "  for nl in no_lex:\n",
        "    doc=doc.replace(nl,\"\")\n",
        "  # Separamos las oraciones por palabras \n",
        "  sep = [[ y for y in x.split(\" \") if len(y)>0] for x in doc.split(\"\\n\")]\n",
        "  return sep"
      ],
      "execution_count": null,
      "outputs": []
    },
    {
      "cell_type": "markdown",
      "metadata": {
        "id": "cekaKd3Nk9zX"
      },
      "source": [
        "# Ejecución del algoritmo **BPE**"
      ]
    },
    {
      "cell_type": "markdown",
      "metadata": {
        "id": "RNmOIV7MlJaV"
      },
      "source": [
        "##Limpieza, preprocesamiento del corpus"
      ]
    },
    {
      "cell_type": "code",
      "metadata": {
        "id": "S2tRDNljQqfZ"
      },
      "source": [
        "tsunkua = elotl.corpus.load('tsunkua') \n",
        "\n",
        "otomi = [x[1] for x in tsunkua]\n",
        "español = [x[0] for x in tsunkua]\n",
        "\n",
        "corpus_otomi = pre_proceso(otomi)\n",
        "corpus_español = pre_proceso(español)"
      ],
      "execution_count": null,
      "outputs": []
    },
    {
      "cell_type": "markdown",
      "metadata": {
        "id": "e8j6pP9nlMmG"
      },
      "source": [
        "##Ejecución de **BPE**\n",
        "Se decidió dar las mismas iteraciones a ambos corpus para evitar que haya problemas al momento de tratar de alinear las oraciones"
      ]
    },
    {
      "cell_type": "code",
      "metadata": {
        "colab": {
          "base_uri": "https://localhost:8080/"
        },
        "id": "AWzsJZ0jXwVK",
        "outputId": "3d6562de-357a-4266-c7f9-5e67fdd1d1fe"
      },
      "source": [
        "nuevo_otomi,h_otomi = BPE(corpus_otomi,70)"
      ],
      "execution_count": null,
      "outputs": [
        {
          "output_type": "stream",
          "name": "stdout",
          "text": [
            "ITERACIÓN 1\tMas frecuente: ra \t- 6598\n",
            "ITERACIÓN 2\tMas frecuente: ya \t- 5217\n",
            "ITERACIÓN 3\tMas frecuente: u̱ \t- 4813\n",
            "ITERACIÓN 4\tMas frecuente: 'a \t- 3895\n",
            "ITERACIÓN 5\tMas frecuente: bi \t- 3553\n",
            "ITERACIÓN 6\tMas frecuente: ts \t- 3493\n",
            "ITERACIÓN 7\tMas frecuente: nu \t- 2784\n",
            "ITERACIÓN 8\tMas frecuente: e̱ \t- 2733\n",
            "ITERACIÓN 9\tMas frecuente: di \t- 2570\n",
            "ITERACIÓN 10\tMas frecuente: th \t- 2526\n",
            "ITERACIÓN 11\tMas frecuente: o̱ \t- 2359\n",
            "ITERACIÓN 12\tMas frecuente: ni \t- 2300\n",
            "ITERACIÓN 13\tMas frecuente: 'i \t- 2250\n",
            "ITERACIÓN 14\tMas frecuente: mi \t- 2231\n",
            "ITERACIÓN 15\tMas frecuente: ng \t- 2122\n",
            "ITERACIÓN 16\tMas frecuente: da \t- 2048\n",
            "ITERACIÓN 17\tMas frecuente: ha \t- 1985\n",
            "ITERACIÓN 18\tMas frecuente: ma \t- 1921\n",
            "ITERACIÓN 19\tMas frecuente: ne \t- 1687\n",
            "ITERACIÓN 20\tMas frecuente: t' \t- 1537\n",
            "ITERACIÓN 21\tMas frecuente: ga \t- 1425\n",
            "ITERACIÓN 22\tMas frecuente: ge \t- 1337\n",
            "ITERACIÓN 23\tMas frecuente: pa \t- 1282\n",
            "ITERACIÓN 24\tMas frecuente: te \t- 1264\n",
            "ITERACIÓN 25\tMas frecuente: na \t- 1199\n",
            "ITERACIÓN 26\tMas frecuente: he \t- 1174\n",
            "ITERACIÓN 27\tMas frecuente: 'u̱ \t- 1170\n",
            "ITERACIÓN 28\tMas frecuente: de \t- 1129\n",
            "ITERACIÓN 29\tMas frecuente: ja \t- 1078\n",
            "ITERACIÓN 30\tMas frecuente: ri \t- 1065\n",
            "ITERACIÓN 31\tMas frecuente: ki \t- 1056\n",
            "ITERACIÓN 32\tMas frecuente: tho \t- 1056\n",
            "ITERACIÓN 33\tMas frecuente: 'o \t- 1055\n",
            "ITERACIÓN 34\tMas frecuente: gi \t- 1053\n",
            "ITERACIÓN 35\tMas frecuente: bu̱ \t- 1051\n",
            "ITERACIÓN 36\tMas frecuente: ua \t- 1034\n",
            "ITERACIÓN 37\tMas frecuente: 'e̱ \t- 982\n",
            "ITERACIÓN 38\tMas frecuente: n'a \t- 973\n",
            "ITERACIÓN 39\tMas frecuente: nd \t- 845\n",
            "ITERACIÓN 40\tMas frecuente: in \t- 821\n",
            "ITERACIÓN 41\tMas frecuente: ko \t- 796\n",
            "ITERACIÓN 42\tMas frecuente: mä \t- 783\n",
            "ITERACIÓN 43\tMas frecuente: hñ \t- 767\n",
            "ITERACIÓN 44\tMas frecuente: xa \t- 715\n",
            "ITERACIÓN 45\tMas frecuente: hu̱ \t- 701\n",
            "ITERACIÓN 46\tMas frecuente: tl \t- 696\n",
            "ITERACIÓN 47\tMas frecuente: tsi \t- 683\n",
            "ITERACIÓN 48\tMas frecuente: ts'i \t- 671\n",
            "ITERACIÓN 49\tMas frecuente: xi \t- 667\n",
            "ITERACIÓN 50\tMas frecuente: ka \t- 655\n",
            "ITERACIÓN 51\tMas frecuente: ba \t- 630\n",
            "ITERACIÓN 52\tMas frecuente: ta \t- 626\n",
            "ITERACIÓN 53\tMas frecuente: hu \t- 625\n",
            "ITERACIÓN 54\tMas frecuente: 'e \t- 613\n",
            "ITERACIÓN 55\tMas frecuente: k'a \t- 613\n",
            "ITERACIÓN 56\tMas frecuente: ngu \t- 609\n",
            "ITERACIÓN 57\tMas frecuente: me \t- 591\n",
            "ITERACIÓN 58\tMas frecuente: ca \t- 578\n",
            "ITERACIÓN 59\tMas frecuente: nga \t- 566\n",
            "ITERACIÓN 60\tMas frecuente: yo \t- 562\n",
            "ITERACIÓN 61\tMas frecuente: ho \t- 557\n",
            "ITERACIÓN 62\tMas frecuente: co \t- 555\n",
            "ITERACIÓN 63\tMas frecuente: mf \t- 549\n",
            "ITERACIÓN 64\tMas frecuente: t'i \t- 548\n",
            "ITERACIÓN 65\tMas frecuente: hi \t- 541\n",
            "ITERACIÓN 66\tMas frecuente: to \t- 540\n",
            "ITERACIÓN 67\tMas frecuente: t'a \t- 540\n",
            "ITERACIÓN 68\tMas frecuente: nth \t- 510\n",
            "ITERACIÓN 69\tMas frecuente: nu'a \t- 509\n",
            "ITERACIÓN 70\tMas frecuente: xki \t- 507\n"
          ]
        }
      ]
    },
    {
      "cell_type": "code",
      "metadata": {
        "colab": {
          "base_uri": "https://localhost:8080/"
        },
        "id": "Njar_1sppHI_",
        "outputId": "d039f434-21aa-4f38-9225-d7f91e477dd6"
      },
      "source": [
        "nuevo_español,h_español = BPE(corpus_español,70)"
      ],
      "execution_count": null,
      "outputs": [
        {
          "output_type": "stream",
          "name": "stdout",
          "text": [
            "ITERACIÓN 1\tMas frecuente: os \t- 5844\n",
            "ITERACIÓN 2\tMas frecuente: es \t- 5707\n",
            "ITERACIÓN 3\tMas frecuente: en \t- 5019\n",
            "ITERACIÓN 4\tMas frecuente: de \t- 4404\n",
            "ITERACIÓN 5\tMas frecuente: an \t- 3973\n",
            "ITERACIÓN 6\tMas frecuente: er \t- 3779\n",
            "ITERACIÓN 7\tMas frecuente: la \t- 3390\n",
            "ITERACIÓN 8\tMas frecuente: on \t- 3226\n",
            "ITERACIÓN 9\tMas frecuente: ue \t- 2900\n",
            "ITERACIÓN 10\tMas frecuente: ar \t- 2867\n",
            "ITERACIÓN 11\tMas frecuente: as \t- 2763\n",
            "ITERACIÓN 12\tMas frecuente: al \t- 2240\n",
            "ITERACIÓN 13\tMas frecuente: or \t- 2162\n",
            "ITERACIÓN 14\tMas frecuente: do \t- 1974\n",
            "ITERACIÓN 15\tMas frecuente: que \t- 1971\n",
            "ITERACIÓN 16\tMas frecuente: los \t- 1944\n",
            "ITERACIÓN 17\tMas frecuente: te \t- 1841\n",
            "ITERACIÓN 18\tMas frecuente: se \t- 1797\n",
            "ITERACIÓN 19\tMas frecuente: tr \t- 1675\n",
            "ITERACIÓN 20\tMas frecuente: el \t- 1652\n",
            "ITERACIÓN 21\tMas frecuente: co \t- 1524\n",
            "ITERACIÓN 22\tMas frecuente: ta \t- 1503\n",
            "ITERACIÓN 23\tMas frecuente: in \t- 1454\n",
            "ITERACIÓN 24\tMas frecuente: ca \t- 1406\n",
            "ITERACIÓN 25\tMas frecuente: ci \t- 1384\n",
            "ITERACIÓN 26\tMas frecuente: to \t- 1313\n",
            "ITERACIÓN 27\tMas frecuente: un \t- 1269\n",
            "ITERACIÓN 28\tMas frecuente: lo \t- 1213\n",
            "ITERACIÓN 29\tMas frecuente: cu \t- 1179\n",
            "ITERACIÓN 30\tMas frecuente: re \t- 1165\n",
            "ITERACIÓN 31\tMas frecuente: di \t- 1153\n",
            "ITERACIÓN 32\tMas frecuente: ti \t- 1037\n",
            "ITERACIÓN 33\tMas frecuente: ab \t- 1019\n",
            "ITERACIÓN 34\tMas frecuente: con \t- 1009\n",
            "ITERACIÓN 35\tMas frecuente: ch \t- 971\n",
            "ITERACIÓN 36\tMas frecuente: le \t- 906\n",
            "ITERACIÓN 37\tMas frecuente: ad \t- 854\n",
            "ITERACIÓN 38\tMas frecuente: su \t- 824\n",
            "ITERACIÓN 39\tMas frecuente: mo \t- 824\n",
            "ITERACIÓN 40\tMas frecuente: no \t- 821\n",
            "ITERACIÓN 41\tMas frecuente: ues \t- 735\n",
            "ITERACIÓN 42\tMas frecuente: me \t- 716\n",
            "ITERACIÓN 43\tMas frecuente: ma \t- 700\n",
            "ITERACIÓN 44\tMas frecuente: por \t- 693\n",
            "ITERACIÓN 45\tMas frecuente: qu \t- 686\n",
            "ITERACIÓN 46\tMas frecuente: mi \t- 668\n",
            "ITERACIÓN 47\tMas frecuente: eron \t- 648\n",
            "ITERACIÓN 48\tMas frecuente: ra \t- 642\n",
            "ITERACIÓN 49\tMas frecuente: si \t- 622\n",
            "ITERACIÓN 50\tMas frecuente: par \t- 622\n",
            "ITERACIÓN 51\tMas frecuente: gu \t- 608\n",
            "ITERACIÓN 52\tMas frecuente: las \t- 608\n",
            "ITERACIÓN 53\tMas frecuente: mos \t- 605\n",
            "ITERACIÓN 54\tMas frecuente: pa \t- 593\n",
            "ITERACIÓN 55\tMas frecuente: vi \t- 583\n",
            "ITERACIÓN 56\tMas frecuente: cas \t- 581\n",
            "ITERACIÓN 57\tMas frecuente: ri \t- 581\n",
            "ITERACIÓN 58\tMas frecuente: ía \t- 577\n",
            "ITERACIÓN 59\tMas frecuente: ón \t- 557\n",
            "ITERACIÓN 60\tMas frecuente: mu \t- 551\n",
            "ITERACIÓN 61\tMas frecuente: ando \t- 523\n",
            "ITERACIÓN 62\tMas frecuente: ac \t- 519\n",
            "ITERACIÓN 63\tMas frecuente: dos \t- 508\n",
            "ITERACIÓN 64\tMas frecuente: ent \t- 499\n",
            "ITERACIÓN 65\tMas frecuente: les \t- 491\n",
            "ITERACIÓN 66\tMas frecuente: go \t- 487\n",
            "ITERACIÓN 67\tMas frecuente: pr \t- 473\n",
            "ITERACIÓN 68\tMas frecuente: hu \t- 468\n",
            "ITERACIÓN 69\tMas frecuente: mb \t- 463\n",
            "ITERACIÓN 70\tMas frecuente: tl \t- 442\n"
          ]
        }
      ]
    },
    {
      "cell_type": "markdown",
      "metadata": {
        "id": "1MUihUqGlRNv"
      },
      "source": [
        "# Resultados"
      ]
    },
    {
      "cell_type": "markdown",
      "metadata": {
        "id": "-HRuHAv0muuX"
      },
      "source": [
        "## Gráfica de evolución de la entropía separada por lengua"
      ]
    },
    {
      "cell_type": "code",
      "metadata": {
        "colab": {
          "base_uri": "https://localhost:8080/"
        },
        "id": "f-EcBUa9WHb4",
        "outputId": "fb818c09-717d-4c7c-d83a-4f71e5de7b01"
      },
      "source": [
        "# mostrando la entropia \n",
        "plt.plot(range(1,len(h_otomi)+1),h_otomi,c=\"red\")\n",
        "plt.title(\"Entropía del otomí\")\n",
        "plt.show()"
      ],
      "execution_count": null,
      "outputs": [
        {
          "output_type": "display_data",
          "data": {
            "image/png": "[encoded data removed]",
            "text/plain": [
              "<Figure size 432x288 with 1 Axes>"
            ]
          },
          "metadata": {
            "needs_background": "light"
          }
        }
      ]
    },
    {
      "cell_type": "code",
      "metadata": {
        "colab": {
          "base_uri": "https://localhost:8080/"
        },
        "id": "kqetUWk2YBAa",
        "outputId": "d5b92adb-90ac-49d2-af6c-1b20a92d141e"
      },
      "source": [
        "plt.plot(range(1,len(h_español)+1),h_español,c=\"blue\")\n",
        "plt.title(\"Entropía del español\")\n",
        "plt.show()"
      ],
      "execution_count": null,
      "outputs": [
        {
          "output_type": "display_data",
          "data": {
            "image/png": "[encoded data removed]",
            "text/plain": [
              "<Figure size 432x288 with 1 Axes>"
            ]
          },
          "metadata": {
            "needs_background": "light"
          }
        }
      ]
    },
    {
      "cell_type": "markdown",
      "metadata": {
        "id": "dueTrQ-km6vP"
      },
      "source": [
        "## Gráfica de la evolución de la entropía de ambas lenguas"
      ]
    },
    {
      "cell_type": "code",
      "metadata": {
        "colab": {
          "base_uri": "https://localhost:8080/"
        },
        "id": "IOrnHUjHzMqQ",
        "outputId": "93c45077-5d1a-4012-d47c-d07aeff1deda"
      },
      "source": [
        "plt.plot(range(1,len(h_español)+1),h_español,c=\"blue\",label=\"español\")\n",
        "plt.plot(range(1,len(h_otomi)+1),h_otomi,c=\"red\",label=\"otomi\")\n",
        "plt.title(\"Entropía del español-otomí\")\n",
        "plt.legend()\n",
        "plt.show()"
      ],
      "execution_count": null,
      "outputs": [
        {
          "output_type": "display_data",
          "data": {
            "image/png": "[encoded data removed]",
            "text/plain": [
              "<Figure size 432x288 with 1 Axes>"
            ]
          },
          "metadata": {
            "needs_background": "light"
          }
        }
      ]
    },
    {
      "cell_type": "markdown",
      "metadata": {
        "id": "yAi-cXtBnOUQ"
      },
      "source": [
        "## Curvas de Zipf"
      ]
    },
    {
      "cell_type": "code",
      "metadata": {
        "colab": {
          "base_uri": "https://localhost:8080/"
        },
        "id": "1NnijMbKnbkn",
        "outputId": "4e0a86bb-cd75-49e5-b4f7-a06c2d087630"
      },
      "source": [
        "from itertools import chain\n",
        "freqs_otomi = Counter(list(chain(*[oracion.split(\" \") \n",
        "                      for oracion in nuevo_otomi])))\n",
        "freqs_español = Counter(list(chain(*[oracion.split(\" \") \n",
        "                      for oracion in nuevo_español])))\n",
        "zipf_otomi = [x[1] for x in freqs_ordenado(freqs_otomi)]\n",
        "zipf_español = [x[1] for x in freqs_ordenado(freqs_español)]\n",
        "\n",
        "plt.scatter(range(len(zipf_otomi)),zipf_otomi,color=\"red\",label=\"Otomi\")\n",
        "plt.scatter(range(len(zipf_español)),zipf_español,color=\"blue\",label=\"Español\")\n",
        "plt.yscale(\"log\")\n",
        "plt.legend()\n",
        "plt.ylabel(\"Frecuencias log\")\n",
        "plt.xlabel(\"Grupos de palabras\")\n",
        "plt.title(\"Curvas de zipf después de BPE\")\n",
        "plt.show()"
      ],
      "execution_count": null,
      "outputs": [
        {
          "output_type": "display_data",
          "data": {
            "image/png": "[encoded data removed]",
            "text/plain": [
              "<Figure size 432x288 with 1 Axes>"
            ]
          },
          "metadata": {
            "needs_background": "light"
          }
        }
      ]
    },
    {
      "cell_type": "markdown",
      "metadata": {
        "id": "7qxK3hsbhZdW"
      },
      "source": [
        "# Comparación con subword-nmt"
      ]
    },
    {
      "cell_type": "markdown",
      "metadata": {
        "id": "k1y0TojL0J78"
      },
      "source": [
        "## Instalación e importación de bibliotecas"
      ]
    },
    {
      "cell_type": "code",
      "metadata": {
        "colab": {
          "base_uri": "https://localhost:8080/"
        },
        "id": "WpX-sp1biw9U",
        "outputId": "4a25d462-aaa5-45d1-80af-40d2f919263b"
      },
      "source": [
        "!pip install subword-nmt \n",
        "# https://github.com/rsennrich/subword-nmt"
      ],
      "execution_count": null,
      "outputs": [
        {
          "output_type": "stream",
          "name": "stdout",
          "text": [
            "Collecting subword-nmt\n",
            "  Downloading subword_nmt-0.3.7-py2.py3-none-any.whl (26 kB)\n",
            "Installing collected packages: subword-nmt\n",
            "Successfully installed subword-nmt-0.3.7\n"
          ]
        }
      ]
    },
    {
      "cell_type": "code",
      "metadata": {
        "id": "eMFynGYcuGmP"
      },
      "source": [
        "import os \n",
        "import elotl.corpus\n",
        "import matplotlib.pyplot as plt\n",
        "from itertools import chain"
      ],
      "execution_count": null,
      "outputs": []
    },
    {
      "cell_type": "markdown",
      "metadata": {
        "id": "dRt39Gpv0OvE"
      },
      "source": [
        "## Ejecución BPE con Subword-mnt"
      ]
    },
    {
      "cell_type": "markdown",
      "metadata": {
        "id": "kWVyQA7C0VXb"
      },
      "source": [
        "### Preprocesamiento"
      ]
    },
    {
      "cell_type": "code",
      "metadata": {
        "id": "KDaVf943mES2"
      },
      "source": [
        "# creando archivos\n",
        "corpus_otomi_2 = pre_proceso(otomi)\n",
        "corpus_español_2 = pre_proceso(español)\n",
        "\n",
        "with open(\"/train.nlp.es\",\"w\") as p:\n",
        "  p.writelines([\" \".join(oracion)+\"\\n\" for oracion in corpus_español_2])\n",
        "\n",
        "with open(\"/train.nlp.ot\",\"w\") as p: \n",
        "  p.writelines([\" \".join(oracion)+\"\\n\" for oracion in corpus_otomi_2])"
      ],
      "execution_count": null,
      "outputs": []
    },
    {
      "cell_type": "code",
      "metadata": {
        "id": "qwbEtidUrQRZ"
      },
      "source": [
        "!chmod 777 -R /usr/local/lib/python3.7/dist-packages/subword_nmt"
      ],
      "execution_count": null,
      "outputs": []
    },
    {
      "cell_type": "markdown",
      "metadata": {
        "id": "tVIyzFuJ0Zyj"
      },
      "source": [
        "### Función auxiliar"
      ]
    },
    {
      "cell_type": "code",
      "metadata": {
        "id": "e0UNBIY8ujWZ"
      },
      "source": [
        "#! /usr/local/lib/python3.7/dist-packages/subword_nmt/learn_joint_bpe_and_vocab.py --input /train.nlp.es /train.nlp.ot -s {num_op} -o /bpe.codes.{num_op} --write-vocabulary /vocab.es /vocab.ot \n",
        "#! /usr/local/lib/python3.7/dist-packages/subword_nmt/learn_bpe.py -s {num_op} < /train.nlp.es > /bpe.codes.{num_op}\n",
        "#! /usr/local/lib/python3.7/dist-packages/subword_nmt/apply_bpe.py -c /bpe.codes.{num_op} < /train.nlp.es > /salida.{num_op}.es"
      ],
      "execution_count": null,
      "outputs": []
    },
    {
      "cell_type": "code",
      "metadata": {
        "id": "0mBT_gWo1bTa"
      },
      "source": [
        "def ejecutar_subword_nmt(sufijo,iteraciones):\n",
        "  num_op = 1\n",
        "  list_h = list()\n",
        "  for i in range(iteraciones):\n",
        "    # ejecutamos subword-nmt\n",
        "    ! /usr/local/lib/python3.7/dist-packages/subword_nmt/learn_bpe.py -s {num_op} < /train.nlp.{sufijo} > /bpe.codes.{sufijo}.{num_op}\n",
        "    ! /usr/local/lib/python3.7/dist-packages/subword_nmt/apply_bpe.py -c /bpe.codes.{sufijo}.{num_op} < /train.nlp.{sufijo} > /salida.{num_op}.{sufijo}\n",
        "\n",
        "    # abrimos el corpus de salida\n",
        "    with open(\"/salida.\"+str(num_op)+\".\"+sufijo,\"r\") as f:\n",
        "      data = f.readlines()\n",
        "\n",
        "    # obtenemos las palabras\n",
        "    l_bpe = \" \".join(data).replace(\"\\n\",\"\")\n",
        "    palabras = [x for x in l_bpe.split(\" \") if len(x)>0]\n",
        "    # calculamos la entropia\n",
        "    H = entropia(palabras)\n",
        "\n",
        "    # encontramos el elemento que se juntó\n",
        "    with open(\"/bpe.codes.\"+sufijo+\".\"+str(num_op),\"r\") as f:\n",
        "      datos = f.readlines()\n",
        "    \n",
        "    datos = [oracion for oracion in datos if len(oracion)>0]\n",
        "    mf = datos[-1][:-1].replace(\"</w>\",\"\").replace(\" \",\"\")\n",
        "    print(\"ITERACION {} \\tNuevo más frecuente: {} \\tEntropía {}\".format(num_op,\n",
        "                                                                        mf,\n",
        "                                                                        round(H,2)))\n",
        "    list_h.append(H)\n",
        "    num_op+=1\n",
        "  return data,list_h"
      ],
      "execution_count": null,
      "outputs": []
    },
    {
      "cell_type": "markdown",
      "metadata": {
        "id": "ilMPzEGL0d28"
      },
      "source": [
        "### Ejecución"
      ]
    },
    {
      "cell_type": "code",
      "metadata": {
        "colab": {
          "base_uri": "https://localhost:8080/"
        },
        "id": "20eVln2TxRfy",
        "outputId": "541b8994-f1d8-4b1b-974e-8f8ab54eef95"
      },
      "source": [
        "nuevo_español_2,h_español_2 = ejecutar_subword_nmt(\"es\",150)"
      ],
      "execution_count": null,
      "outputs": [
        {
          "output_type": "stream",
          "name": "stdout",
          "text": [
            "ITERACION 1 \tNuevo más frecuente: os \tEntropía 7.32\n",
            "ITERACION 2 \tNuevo más frecuente: er \tEntropía 7.28\n",
            "ITERACION 3 \tNuevo más frecuente: de \tEntropía 7.24\n",
            "ITERACION 4 \tNuevo más frecuente: en \tEntropía 7.21\n",
            "ITERACION 5 \tNuevo más frecuente: es \tEntropía 7.17\n",
            "ITERACION 6 \tNuevo más frecuente: es \tEntropía 7.14\n",
            "ITERACION 7 \tNuevo más frecuente: qu \tEntropía 7.13\n",
            "ITERACION 8 \tNuevo más frecuente: ca \tEntropía 7.1\n",
            "ITERACION 9 \tNuevo más frecuente: co \tEntropía 7.07\n",
            "ITERACION 10 \tNuevo más frecuente: ar \tEntropía 7.04\n",
            "ITERACION 11 \tNuevo más frecuente: as \tEntropía 7.02\n",
            "ITERACION 12 \tNuevo más frecuente: an \tEntropía 6.99\n",
            "ITERACION 13 \tNuevo más frecuente: los \tEntropía 6.97\n",
            "ITERACION 14 \tNuevo más frecuente: en \tEntropía 6.95\n",
            "ITERACION 15 \tNuevo más frecuente: do \tEntropía 6.92\n",
            "ITERACION 16 \tNuevo más frecuente: la \tEntropía 6.9\n",
            "ITERACION 17 \tNuevo más frecuente: que \tEntropía 6.88\n",
            "ITERACION 18 \tNuevo más frecuente: tr \tEntropía 6.86\n",
            "ITERACION 19 \tNuevo más frecuente: el \tEntropía 6.85\n",
            "ITERACION 20 \tNuevo más frecuente: an \tEntropía 6.83\n",
            "ITERACION 21 \tNuevo más frecuente: al \tEntropía 6.81\n",
            "ITERACION 22 \tNuevo más frecuente: ci \tEntropía 6.79\n",
            "ITERACION 23 \tNuevo más frecuente: se \tEntropía 6.77\n",
            "ITERACION 24 \tNuevo más frecuente: ab \tEntropía 6.75\n",
            "ITERACION 25 \tNuevo más frecuente: on \tEntropía 6.74\n",
            "ITERACION 26 \tNuevo más frecuente: cu \tEntropía 6.72\n",
            "ITERACION 27 \tNuevo más frecuente: or \tEntropía 6.71\n",
            "ITERACION 28 \tNuevo más frecuente: est \tEntropía 6.69\n",
            "ITERACION 29 \tNuevo más frecuente: di \tEntropía 6.68\n",
            "ITERACION 30 \tNuevo más frecuente: ent \tEntropía 6.66\n",
            "ITERACION 31 \tNuevo más frecuente: in \tEntropía 6.65\n",
            "ITERACION 32 \tNuevo más frecuente: po \tEntropía 6.64\n",
            "ITERACION 33 \tNuevo más frecuente: lo \tEntropía 6.62\n",
            "ITERACION 34 \tNuevo más frecuente: ch \tEntropía 6.61\n",
            "ITERACION 35 \tNuevo más frecuente: ti \tEntropía 6.6\n",
            "ITERACION 36 \tNuevo más frecuente: re \tEntropía 6.59\n",
            "ITERACION 37 \tNuevo más frecuente: am \tEntropía 6.58\n",
            "ITERACION 38 \tNuevo más frecuente: pu \tEntropía 6.57\n",
            "ITERACION 39 \tNuevo más frecuente: ad \tEntropía 6.56\n",
            "ITERACION 40 \tNuevo más frecuente: on \tEntropía 6.55\n",
            "ITERACION 41 \tNuevo más frecuente: un \tEntropía 6.54\n",
            "ITERACION 42 \tNuevo más frecuente: te \tEntropía 6.53\n",
            "ITERACION 43 \tNuevo más frecuente: al \tEntropía 6.52\n",
            "ITERACION 44 \tNuevo más frecuente: eg \tEntropía 6.52\n",
            "ITERACION 45 \tNuevo más frecuente: ol \tEntropía 6.51\n",
            "ITERACION 46 \tNuevo más frecuente: eron \tEntropía 6.51\n",
            "ITERACION 47 \tNuevo más frecuente: com \tEntropía 6.5\n",
            "ITERACION 48 \tNuevo más frecuente: as \tEntropía 6.49\n",
            "ITERACION 49 \tNuevo más frecuente: it \tEntropía 6.48\n",
            "ITERACION 50 \tNuevo más frecuente: ar \tEntropía 6.48\n",
            "ITERACION 51 \tNuevo más frecuente: par \tEntropía 6.47\n",
            "ITERACION 52 \tNuevo más frecuente: pr \tEntropía 6.47\n",
            "ITERACION 53 \tNuevo más frecuente: ll \tEntropía 6.46\n",
            "ITERACION 54 \tNuevo más frecuente: no \tEntropía 6.45\n",
            "ITERACION 55 \tNuevo más frecuente: om \tEntropía 6.45\n",
            "ITERACION 56 \tNuevo más frecuente: gu \tEntropía 6.44\n",
            "ITERACION 57 \tNuevo más frecuente: em \tEntropía 6.44\n",
            "ITERACION 58 \tNuevo más frecuente: vi \tEntropía 6.43\n",
            "ITERACION 59 \tNuevo más frecuente: mu \tEntropía 6.43\n",
            "ITERACION 60 \tNuevo más frecuente: hu \tEntropía 6.42\n",
            "ITERACION 61 \tNuevo más frecuente: con \tEntropía 6.42\n",
            "ITERACION 62 \tNuevo más frecuente: fu \tEntropía 6.42\n",
            "ITERACION 63 \tNuevo más frecuente: ía \tEntropía 6.41\n",
            "ITERACION 64 \tNuevo más frecuente: tl \tEntropía 6.41\n",
            "ITERACION 65 \tNuevo más frecuente: si \tEntropía 6.4\n",
            "ITERACION 66 \tNuevo más frecuente: las \tEntropía 6.4\n",
            "ITERACION 67 \tNuevo más frecuente: por \tEntropía 6.4\n",
            "ITERACION 68 \tNuevo más frecuente: ando \tEntropía 6.4\n",
            "ITERACION 69 \tNuevo más frecuente: te \tEntropía 6.39\n",
            "ITERACION 70 \tNuevo más frecuente: ón \tEntropía 6.39\n",
            "ITERACION 71 \tNuevo más frecuente: ado \tEntropía 6.39\n",
            "ITERACION 72 \tNuevo más frecuente: ac \tEntropía 6.39\n",
            "ITERACION 73 \tNuevo más frecuente: de \tEntropía 6.38\n",
            "ITERACION 74 \tNuevo más frecuente: con \tEntropía 6.38\n",
            "ITERACION 75 \tNuevo más frecuente: su \tEntropía 6.38\n",
            "ITERACION 76 \tNuevo más frecuente: to \tEntropía 6.37\n",
            "ITERACION 77 \tNuevo más frecuente: bi \tEntropía 6.37\n",
            "ITERACION 78 \tNuevo más frecuente: at \tEntropía 6.37\n",
            "ITERACION 79 \tNuevo más frecuente: co \tEntropía 6.36\n",
            "ITERACION 80 \tNuevo más frecuente: otr \tEntropía 6.36\n",
            "ITERACION 81 \tNuevo más frecuente: dos \tEntropía 6.36\n",
            "ITERACION 82 \tNuevo más frecuente: añ \tEntropía 6.36\n",
            "ITERACION 83 \tNuevo más frecuente: per \tEntropía 6.36\n",
            "ITERACION 84 \tNuevo más frecuente: aron \tEntropía 6.36\n",
            "ITERACION 85 \tNuevo más frecuente: el \tEntropía 6.36\n",
            "ITERACION 86 \tNuevo más frecuente: ente \tEntropía 6.36\n",
            "ITERACION 87 \tNuevo más frecuente: gr \tEntropía 6.36\n",
            "ITERACION 88 \tNuevo más frecuente: lu \tEntropía 6.35\n",
            "ITERACION 89 \tNuevo más frecuente: su \tEntropía 6.36\n",
            "ITERACION 90 \tNuevo más frecuente: un \tEntropía 6.36\n",
            "ITERACION 91 \tNuevo más frecuente: me \tEntropía 6.35\n",
            "ITERACION 92 \tNuevo más frecuente: br \tEntropía 6.35\n",
            "ITERACION 93 \tNuevo más frecuente: to \tEntropía 6.35\n",
            "ITERACION 94 \tNuevo más frecuente: se \tEntropía 6.35\n",
            "ITERACION 95 \tNuevo más frecuente: pues \tEntropía 6.35\n",
            "ITERACION 96 \tNuevo más frecuente: xi \tEntropía 6.35\n",
            "ITERACION 97 \tNuevo más frecuente: le \tEntropía 6.35\n",
            "ITERACION 98 \tNuevo más frecuente: ta \tEntropía 6.34\n",
            "ITERACION 99 \tNuevo más frecuente: del \tEntropía 6.34\n",
            "ITERACION 100 \tNuevo más frecuente: ra \tEntropía 6.34\n",
            "ITERACION 101 \tNuevo más frecuente: ás \tEntropía 6.34\n",
            "ITERACION 102 \tNuevo más frecuente: era \tEntropía 6.34\n",
            "ITERACION 103 \tNuevo más frecuente: mi \tEntropía 6.34\n",
            "ITERACION 104 \tNuevo más frecuente: des \tEntropía 6.34\n",
            "ITERACION 105 \tNuevo más frecuente: ri \tEntropía 6.33\n",
            "ITERACION 106 \tNuevo más frecuente: hab \tEntropía 6.33\n",
            "ITERACION 107 \tNuevo más frecuente: como \tEntropía 6.33\n",
            "ITERACION 108 \tNuevo más frecuente: os \tEntropía 6.33\n",
            "ITERACION 109 \tNuevo más frecuente: ya \tEntropía 6.33\n",
            "ITERACION 110 \tNuevo más frecuente: esp \tEntropía 6.33\n",
            "ITERACION 111 \tNuevo más frecuente: da \tEntropía 6.33\n",
            "ITERACION 112 \tNuevo más frecuente: nos \tEntropía 6.33\n",
            "ITERACION 113 \tNuevo más frecuente: aban \tEntropía 6.33\n",
            "ITERACION 114 \tNuevo más frecuente: aci \tEntropía 6.33\n",
            "ITERACION 115 \tNuevo más frecuente: ten \tEntropía 6.33\n",
            "ITERACION 116 \tNuevo más frecuente: qui \tEntropía 6.33\n",
            "ITERACION 117 \tNuevo más frecuente: para \tEntropía 6.33\n",
            "ITERACION 118 \tNuevo más frecuente: pi \tEntropía 6.33\n",
            "ITERACION 119 \tNuevo más frecuente: er \tEntropía 6.33\n",
            "ITERACION 120 \tNuevo más frecuente: estr \tEntropía 6.33\n",
            "ITERACION 121 \tNuevo más frecuente: nu \tEntropía 6.33\n",
            "ITERACION 122 \tNuevo más frecuente: ían \tEntropía 6.33\n",
            "ITERACION 123 \tNuevo más frecuente: all \tEntropía 6.33\n",
            "ITERACION 124 \tNuevo más frecuente: aba \tEntropía 6.33\n",
            "ITERACION 125 \tNuevo más frecuente: tz \tEntropía 6.33\n",
            "ITERACION 126 \tNuevo más frecuente: cuando \tEntropía 6.33\n",
            "ITERACION 127 \tNuevo más frecuente: cas \tEntropía 6.33\n",
            "ITERACION 128 \tNuevo más frecuente: tla \tEntropía 6.34\n",
            "ITERACION 129 \tNuevo más frecuente: ces \tEntropía 6.33\n",
            "ITERACION 130 \tNuevo más frecuente: me \tEntropía 6.33\n",
            "ITERACION 131 \tNuevo más frecuente: man \tEntropía 6.33\n",
            "ITERACION 132 \tNuevo más frecuente: cas \tEntropía 6.33\n",
            "ITERACION 133 \tNuevo más frecuente: mo \tEntropía 6.33\n",
            "ITERACION 134 \tNuevo más frecuente: im \tEntropía 6.33\n",
            "ITERACION 135 \tNuevo más frecuente: sus \tEntropía 6.34\n",
            "ITERACION 136 \tNuevo más frecuente: ego \tEntropía 6.34\n",
            "ITERACION 137 \tNuevo más frecuente: una \tEntropía 6.34\n",
            "ITERACION 138 \tNuevo más frecuente: or \tEntropía 6.34\n",
            "ITERACION 139 \tNuevo más frecuente: ca \tEntropía 6.34\n",
            "ITERACION 140 \tNuevo más frecuente: les \tEntropía 6.34\n",
            "ITERACION 141 \tNuevo más frecuente: amos \tEntropía 6.34\n",
            "ITERACION 142 \tNuevo más frecuente: hi \tEntropía 6.34\n",
            "ITERACION 143 \tNuevo más frecuente: aj \tEntropía 6.34\n",
            "ITERACION 144 \tNuevo más frecuente: pe \tEntropía 6.34\n",
            "ITERACION 145 \tNuevo más frecuente: enton \tEntropía 6.34\n",
            "ITERACION 146 \tNuevo más frecuente: entonces \tEntropía 6.36\n",
            "ITERACION 147 \tNuevo más frecuente: án \tEntropía 6.36\n",
            "ITERACION 148 \tNuevo más frecuente: ev \tEntropía 6.36\n",
            "ITERACION 149 \tNuevo más frecuente: españ \tEntropía 6.37\n",
            "ITERACION 150 \tNuevo más frecuente: ad \tEntropía 6.38\n"
          ]
        }
      ]
    },
    {
      "cell_type": "code",
      "metadata": {
        "colab": {
          "base_uri": "https://localhost:8080/"
        },
        "id": "Awr7xZv9xegE",
        "outputId": "95e4b59b-3f03-4fa6-8fec-cde424cdc639"
      },
      "source": [
        "nuevo_otomi_2, h_otomi_2 = ejecutar_subword_nmt(\"ot\",250)"
      ],
      "execution_count": null,
      "outputs": [
        {
          "output_type": "stream",
          "name": "stdout",
          "text": [
            "ITERACION 1 \tNuevo más frecuente: ra \tEntropía 8.06\n",
            "ITERACION 2 \tNuevo más frecuente: ya \tEntropía 8.02\n",
            "ITERACION 3 \tNuevo más frecuente: ts \tEntropía 7.99\n",
            "ITERACION 4 \tNuevo más frecuente: bi \tEntropía 7.95\n",
            "ITERACION 5 \tNuevo más frecuente: 'a \tEntropía 7.92\n",
            "ITERACION 6 \tNuevo más frecuente: nu \tEntropía 7.88\n",
            "ITERACION 7 \tNuevo más frecuente: u̱ \tEntropía 7.86\n",
            "ITERACION 8 \tNuevo más frecuente: th \tEntropía 7.82\n",
            "ITERACION 9 \tNuevo más frecuente: e̱ \tEntropía 7.8\n",
            "ITERACION 10 \tNuevo más frecuente: t' \tEntropía 7.77\n",
            "ITERACION 11 \tNuevo más frecuente: ng \tEntropía 7.74\n",
            "ITERACION 12 \tNuevo más frecuente: u̱ \tEntropía 7.71\n",
            "ITERACION 13 \tNuevo más frecuente: di \tEntropía 7.69\n",
            "ITERACION 14 \tNuevo más frecuente: ni \tEntropía 7.66\n",
            "ITERACION 15 \tNuevo más frecuente: mi \tEntropía 7.63\n",
            "ITERACION 16 \tNuevo más frecuente: o̱ \tEntropía 7.62\n",
            "ITERACION 17 \tNuevo más frecuente: da \tEntropía 7.6\n",
            "ITERACION 18 \tNuevo más frecuente: ts' \tEntropía 7.58\n",
            "ITERACION 19 \tNuevo más frecuente: b' \tEntropía 7.56\n",
            "ITERACION 20 \tNuevo más frecuente: nd \tEntropía 7.54\n",
            "ITERACION 21 \tNuevo más frecuente: ne \tEntropía 7.52\n",
            "ITERACION 22 \tNuevo más frecuente: ma \tEntropía 7.5\n",
            "ITERACION 23 \tNuevo más frecuente: ha \tEntropía 7.48\n",
            "ITERACION 24 \tNuevo más frecuente: he \tEntropía 7.47\n",
            "ITERACION 25 \tNuevo más frecuente: ki \tEntropía 7.45\n",
            "ITERACION 26 \tNuevo más frecuente: bu̱ \tEntropía 7.44\n",
            "ITERACION 27 \tNuevo más frecuente: ha \tEntropía 7.42\n",
            "ITERACION 28 \tNuevo más frecuente: ri \tEntropía 7.41\n",
            "ITERACION 29 \tNuevo más frecuente: na \tEntropía 7.39\n",
            "ITERACION 30 \tNuevo más frecuente: gi \tEntropía 7.37\n",
            "ITERACION 31 \tNuevo más frecuente: ma \tEntropía 7.36\n",
            "ITERACION 32 \tNuevo más frecuente: n'a \tEntropía 7.35\n",
            "ITERACION 33 \tNuevo más frecuente: pa \tEntropía 7.33\n",
            "ITERACION 34 \tNuevo más frecuente: in \tEntropía 7.32\n",
            "ITERACION 35 \tNuevo más frecuente: te \tEntropía 7.31\n",
            "ITERACION 36 \tNuevo más frecuente: ga \tEntropía 7.29\n",
            "ITERACION 37 \tNuevo más frecuente: hñ \tEntropía 7.28\n",
            "ITERACION 38 \tNuevo más frecuente: 'i \tEntropía 7.27\n",
            "ITERACION 39 \tNuevo más frecuente: ua \tEntropía 7.26\n",
            "ITERACION 40 \tNuevo más frecuente: ge \tEntropía 7.25\n",
            "ITERACION 41 \tNuevo más frecuente: tho \tEntropía 7.24\n",
            "ITERACION 42 \tNuevo más frecuente: ja \tEntropía 7.23\n",
            "ITERACION 43 \tNuevo más frecuente: ñ' \tEntropía 7.22\n",
            "ITERACION 44 \tNuevo más frecuente: ih \tEntropía 7.21\n",
            "ITERACION 45 \tNuevo más frecuente: ga \tEntropía 7.2\n",
            "ITERACION 46 \tNuevo más frecuente: ge \tEntropía 7.19\n",
            "ITERACION 47 \tNuevo más frecuente: ehe \tEntropía 7.18\n",
            "ITERACION 48 \tNuevo más frecuente: an \tEntropía 7.17\n",
            "ITERACION 49 \tNuevo más frecuente: hm \tEntropía 7.16\n",
            "ITERACION 50 \tNuevo más frecuente: ko \tEntropía 7.15\n",
            "ITERACION 51 \tNuevo más frecuente: ts'i \tEntropía 7.14\n",
            "ITERACION 52 \tNuevo más frecuente: nth \tEntropía 7.14\n",
            "ITERACION 53 \tNuevo más frecuente: mf \tEntropía 7.13\n",
            "ITERACION 54 \tNuevo más frecuente: ngu \tEntropía 7.12\n",
            "ITERACION 55 \tNuevo más frecuente: ho \tEntropía 7.11\n",
            "ITERACION 56 \tNuevo más frecuente: m' \tEntropía 7.1\n",
            "ITERACION 57 \tNuevo más frecuente: bi \tEntropía 7.1\n",
            "ITERACION 58 \tNuevo más frecuente: me \tEntropía 7.09\n",
            "ITERACION 59 \tNuevo más frecuente: ya \tEntropía 7.08\n",
            "ITERACION 60 \tNuevo más frecuente: xki \tEntropía 7.07\n",
            "ITERACION 61 \tNuevo más frecuente: nu'a \tEntropía 7.07\n",
            "ITERACION 62 \tNuevo más frecuente: tl \tEntropía 7.06\n",
            "ITERACION 63 \tNuevo más frecuente: 'a \tEntropía 7.05\n",
            "ITERACION 64 \tNuevo más frecuente: ca \tEntropía 7.05\n",
            "ITERACION 65 \tNuevo más frecuente: nga \tEntropía 7.04\n",
            "ITERACION 66 \tNuevo más frecuente: te \tEntropía 7.03\n",
            "ITERACION 67 \tNuevo más frecuente: tsi \tEntropía 7.03\n",
            "ITERACION 68 \tNuevo más frecuente: uh \tEntropía 7.02\n",
            "ITERACION 69 \tNuevo más frecuente: t'i \tEntropía 7.01\n",
            "ITERACION 70 \tNuevo más frecuente: jä \tEntropía 7.01\n",
            "ITERACION 71 \tNuevo más frecuente: k'a \tEntropía 7.0\n",
            "ITERACION 72 \tNuevo más frecuente: oh \tEntropía 7.0\n",
            "ITERACION 73 \tNuevo más frecuente: xa \tEntropía 6.99\n",
            "ITERACION 74 \tNuevo más frecuente: pa \tEntropía 6.98\n",
            "ITERACION 75 \tNuevo más frecuente: ba \tEntropía 6.98\n",
            "ITERACION 76 \tNuevo más frecuente: nuya \tEntropía 6.97\n",
            "ITERACION 77 \tNuevo más frecuente: di \tEntropía 6.96\n",
            "ITERACION 78 \tNuevo más frecuente: de \tEntropía 6.96\n",
            "ITERACION 79 \tNuevo más frecuente: de \tEntropía 6.95\n",
            "ITERACION 80 \tNuevo más frecuente: pe̱ \tEntropía 6.95\n",
            "ITERACION 81 \tNuevo más frecuente: nuna \tEntropía 6.95\n",
            "ITERACION 82 \tNuevo más frecuente: y' \tEntropía 6.94\n",
            "ITERACION 83 \tNuevo más frecuente: o̱t' \tEntropía 6.94\n",
            "ITERACION 84 \tNuevo más frecuente: b'e̱ \tEntropía 6.93\n",
            "ITERACION 85 \tNuevo más frecuente: gatho \tEntropía 6.93\n",
            "ITERACION 86 \tNuevo más frecuente: ja \tEntropía 6.93\n",
            "ITERACION 87 \tNuevo más frecuente: tz \tEntropía 6.93\n",
            "ITERACION 88 \tNuevo más frecuente: ñä \tEntropía 6.92\n",
            "ITERACION 89 \tNuevo más frecuente: xi \tEntropía 6.92\n",
            "ITERACION 90 \tNuevo más frecuente: mä \tEntropía 6.91\n",
            "ITERACION 91 \tNuevo más frecuente: 'u̱ \tEntropía 6.91\n",
            "ITERACION 92 \tNuevo más frecuente: on \tEntropía 6.9\n",
            "ITERACION 93 \tNuevo más frecuente: tla \tEntropía 6.9\n",
            "ITERACION 94 \tNuevo más frecuente: st \tEntropía 6.9\n",
            "ITERACION 95 \tNuevo más frecuente: ka \tEntropía 6.9\n",
            "ITERACION 96 \tNuevo más frecuente: xo \tEntropía 6.89\n",
            "ITERACION 97 \tNuevo más frecuente: jä'i \tEntropía 6.9\n",
            "ITERACION 98 \tNuevo más frecuente: ihu̱ \tEntropía 6.9\n",
            "ITERACION 99 \tNuevo más frecuente: nt \tEntropía 6.89\n",
            "ITERACION 100 \tNuevo más frecuente: má \tEntropía 6.89\n",
            "ITERACION 101 \tNuevo más frecuente: hu \tEntropía 6.88\n",
            "ITERACION 102 \tNuevo más frecuente: ch \tEntropía 6.88\n",
            "ITERACION 103 \tNuevo más frecuente: ua \tEntropía 6.88\n",
            "ITERACION 104 \tNuevo más frecuente: bri \tEntropía 6.87\n",
            "ITERACION 105 \tNuevo más frecuente: hy \tEntropía 6.87\n",
            "ITERACION 106 \tNuevo más frecuente: hn \tEntropía 6.87\n",
            "ITERACION 107 \tNuevo más frecuente: o̱ \tEntropía 6.86\n",
            "ITERACION 108 \tNuevo más frecuente: e̱ \tEntropía 6.86\n",
            "ITERACION 109 \tNuevo más frecuente: nt' \tEntropía 6.86\n",
            "ITERACION 110 \tNuevo más frecuente: nge \tEntropía 6.86\n",
            "ITERACION 111 \tNuevo más frecuente: tho \tEntropía 6.85\n",
            "ITERACION 112 \tNuevo más frecuente: da \tEntropía 6.85\n",
            "ITERACION 113 \tNuevo más frecuente: r'a \tEntropía 6.85\n",
            "ITERACION 114 \tNuevo más frecuente: wi \tEntropía 6.85\n",
            "ITERACION 115 \tNuevo más frecuente: ihe \tEntropía 6.85\n",
            "ITERACION 116 \tNuevo más frecuente: dä \tEntropía 6.85\n",
            "ITERACION 117 \tNuevo más frecuente: u̱i \tEntropía 6.84\n",
            "ITERACION 118 \tNuevo más frecuente: to \tEntropía 6.84\n",
            "ITERACION 119 \tNuevo más frecuente: k' \tEntropía 6.84\n",
            "ITERACION 120 \tNuevo más frecuente: ka \tEntropía 6.83\n",
            "ITERACION 121 \tNuevo más frecuente: t'a \tEntropía 6.83\n",
            "ITERACION 122 \tNuevo más frecuente: nuni \tEntropía 6.83\n",
            "ITERACION 123 \tNuevo más frecuente: xi \tEntropía 6.83\n",
            "ITERACION 124 \tNuevo más frecuente: ädi \tEntropía 6.82\n",
            "ITERACION 125 \tNuevo más frecuente: mi \tEntropía 6.82\n",
            "ITERACION 126 \tNuevo más frecuente: ra \tEntropía 6.82\n",
            "ITERACION 127 \tNuevo más frecuente: xa \tEntropía 6.82\n",
            "ITERACION 128 \tNuevo más frecuente: bo \tEntropía 6.81\n",
            "ITERACION 129 \tNuevo más frecuente: nehe \tEntropía 6.81\n",
            "ITERACION 130 \tNuevo más frecuente: ui \tEntropía 6.81\n",
            "ITERACION 131 \tNuevo más frecuente: dega \tEntropía 6.81\n",
            "ITERACION 132 \tNuevo más frecuente: co \tEntropía 6.81\n",
            "ITERACION 133 \tNuevo más frecuente: nja \tEntropía 6.81\n",
            "ITERACION 134 \tNuevo más frecuente: mra \tEntropía 6.8\n",
            "ITERACION 135 \tNuevo más frecuente: o̱t'e \tEntropía 6.81\n",
            "ITERACION 136 \tNuevo más frecuente: habu̱ \tEntropía 6.8\n",
            "ITERACION 137 \tNuevo más frecuente: co \tEntropía 6.8\n",
            "ITERACION 138 \tNuevo más frecuente: nz \tEntropía 6.8\n",
            "ITERACION 139 \tNuevo más frecuente: hu̱ \tEntropía 6.8\n",
            "ITERACION 140 \tNuevo más frecuente: ti \tEntropía 6.8\n",
            "ITERACION 141 \tNuevo más frecuente: ge'a \tEntropía 6.8\n",
            "ITERACION 142 \tNuevo más frecuente: of \tEntropía 6.8\n",
            "ITERACION 143 \tNuevo más frecuente: b'u̱ \tEntropía 6.79\n",
            "ITERACION 144 \tNuevo más frecuente: ngi \tEntropía 6.79\n",
            "ITERACION 145 \tNuevo más frecuente: u̱di \tEntropía 6.79\n",
            "ITERACION 146 \tNuevo más frecuente: nja \tEntropía 6.79\n",
            "ITERACION 147 \tNuevo más frecuente: bo̱ \tEntropía 6.79\n",
            "ITERACION 148 \tNuevo más frecuente: go \tEntropía 6.79\n",
            "ITERACION 149 \tNuevo más frecuente: ta \tEntropía 6.79\n",
            "ITERACION 150 \tNuevo más frecuente: tso̱ \tEntropía 6.78\n",
            "ITERACION 151 \tNuevo más frecuente: ju \tEntropía 6.78\n",
            "ITERACION 152 \tNuevo más frecuente: hai \tEntropía 6.78\n",
            "ITERACION 153 \tNuevo más frecuente: mfo̱ \tEntropía 6.79\n",
            "ITERACION 154 \tNuevo más frecuente: uhu \tEntropía 6.79\n",
            "ITERACION 155 \tNuevo más frecuente: eni \tEntropía 6.79\n",
            "ITERACION 156 \tNuevo más frecuente: kh \tEntropía 6.78\n",
            "ITERACION 157 \tNuevo más frecuente: ts'e̱ \tEntropía 6.78\n",
            "ITERACION 158 \tNuevo más frecuente: uabi \tEntropía 6.78\n",
            "ITERACION 159 \tNuevo más frecuente: ndu \tEntropía 6.78\n",
            "ITERACION 160 \tNuevo más frecuente: es \tEntropía 6.78\n",
            "ITERACION 161 \tNuevo más frecuente: oya \tEntropía 6.78\n",
            "ITERACION 162 \tNuevo más frecuente: tzi \tEntropía 6.78\n",
            "ITERACION 163 \tNuevo más frecuente: tsa \tEntropía 6.78\n",
            "ITERACION 164 \tNuevo más frecuente: ofo \tEntropía 6.78\n",
            "ITERACION 165 \tNuevo más frecuente: fi \tEntropía 6.78\n",
            "ITERACION 166 \tNuevo más frecuente: 'o \tEntropía 6.78\n",
            "ITERACION 167 \tNuevo más frecuente: hmu \tEntropía 6.78\n",
            "ITERACION 168 \tNuevo más frecuente: tl \tEntropía 6.78\n",
            "ITERACION 169 \tNuevo más frecuente: mä \tEntropía 6.78\n",
            "ITERACION 170 \tNuevo más frecuente: ho̱ \tEntropía 6.78\n",
            "ITERACION 171 \tNuevo más frecuente: na \tEntropía 6.78\n",
            "ITERACION 172 \tNuevo más frecuente: ñämfo̱ \tEntropía 6.79\n",
            "ITERACION 173 \tNuevo más frecuente: ba \tEntropía 6.79\n",
            "ITERACION 174 \tNuevo más frecuente: thogi \tEntropía 6.79\n",
            "ITERACION 175 \tNuevo más frecuente: la \tEntropía 6.79\n",
            "ITERACION 176 \tNuevo más frecuente: po \tEntropía 6.79\n",
            "ITERACION 177 \tNuevo más frecuente: ya' \tEntropía 6.79\n",
            "ITERACION 178 \tNuevo más frecuente: nts \tEntropía 6.79\n",
            "ITERACION 179 \tNuevo más frecuente: e̱h \tEntropía 6.79\n",
            "ITERACION 180 \tNuevo más frecuente: to'o \tEntropía 6.8\n",
            "ITERACION 181 \tNuevo más frecuente: nu'u̱ \tEntropía 6.8\n",
            "ITERACION 182 \tNuevo más frecuente: nä \tEntropía 6.8\n",
            "ITERACION 183 \tNuevo más frecuente: ini \tEntropía 6.8\n",
            "ITERACION 184 \tNuevo más frecuente: nge'a \tEntropía 6.8\n",
            "ITERACION 185 \tNuevo más frecuente: dó \tEntropía 6.8\n",
            "ITERACION 186 \tNuevo más frecuente: t'u̱ \tEntropía 6.8\n",
            "ITERACION 187 \tNuevo más frecuente: nub'u̱ \tEntropía 6.8\n",
            "ITERACION 188 \tNuevo más frecuente: té \tEntropía 6.8\n",
            "ITERACION 189 \tNuevo más frecuente: nthi \tEntropía 6.8\n",
            "ITERACION 190 \tNuevo más frecuente: lo \tEntropía 6.8\n",
            "ITERACION 191 \tNuevo más frecuente: andi \tEntropía 6.8\n",
            "ITERACION 192 \tNuevo más frecuente: dänga \tEntropía 6.8\n",
            "ITERACION 193 \tNuevo más frecuente: za \tEntropía 6.8\n",
            "ITERACION 194 \tNuevo más frecuente: thuhu \tEntropía 6.8\n",
            "ITERACION 195 \tNuevo más frecuente: k'a \tEntropía 6.8\n",
            "ITERACION 196 \tNuevo más frecuente: hnini \tEntropía 6.81\n",
            "ITERACION 197 \tNuevo más frecuente: tzin \tEntropía 6.82\n",
            "ITERACION 198 \tNuevo más frecuente: tsi \tEntropía 6.82\n",
            "ITERACION 199 \tNuevo más frecuente: ndunthi \tEntropía 6.83\n",
            "ITERACION 200 \tNuevo más frecuente: ts'o \tEntropía 6.83\n",
            "ITERACION 201 \tNuevo más frecuente: nde \tEntropía 6.83\n",
            "ITERACION 202 \tNuevo más frecuente: mb \tEntropía 6.83\n",
            "ITERACION 203 \tNuevo más frecuente: onda \tEntropía 6.83\n",
            "ITERACION 204 \tNuevo más frecuente: ebu̱ \tEntropía 6.83\n",
            "ITERACION 205 \tNuevo más frecuente: oho \tEntropía 6.83\n",
            "ITERACION 206 \tNuevo más frecuente: hmä \tEntropía 6.83\n",
            "ITERACION 207 \tNuevo más frecuente: ta \tEntropía 6.83\n",
            "ITERACION 208 \tNuevo más frecuente: pe \tEntropía 6.83\n",
            "ITERACION 209 \tNuevo más frecuente: pi \tEntropía 6.83\n",
            "ITERACION 210 \tNuevo más frecuente: ya'wi \tEntropía 6.83\n",
            "ITERACION 211 \tNuevo más frecuente: m'onda \tEntropía 6.84\n",
            "ITERACION 212 \tNuevo más frecuente: me̱ \tEntropía 6.84\n",
            "ITERACION 213 \tNuevo más frecuente: ko \tEntropía 6.84\n",
            "ITERACION 214 \tNuevo más frecuente: ue \tEntropía 6.84\n",
            "ITERACION 215 \tNuevo más frecuente: njabu̱ \tEntropía 6.84\n",
            "ITERACION 216 \tNuevo más frecuente: m'i \tEntropía 6.84\n",
            "ITERACION 217 \tNuevo más frecuente: dí \tEntropía 6.84\n",
            "ITERACION 218 \tNuevo más frecuente: pe̱tsi \tEntropía 6.84\n",
            "ITERACION 219 \tNuevo más frecuente: e̱he̱ \tEntropía 6.85\n",
            "ITERACION 220 \tNuevo más frecuente: thó \tEntropía 6.85\n",
            "ITERACION 221 \tNuevo más frecuente: to \tEntropía 6.85\n",
            "ITERACION 222 \tNuevo más frecuente: ndez \tEntropía 6.85\n",
            "ITERACION 223 \tNuevo más frecuente: pabi \tEntropía 6.85\n",
            "ITERACION 224 \tNuevo más frecuente: b'u̱i \tEntropía 6.85\n",
            "ITERACION 225 \tNuevo más frecuente: n'a \tEntropía 6.85\n",
            "ITERACION 226 \tNuevo más frecuente: ri \tEntropía 6.85\n",
            "ITERACION 227 \tNuevo más frecuente: nubu̱ \tEntropía 6.85\n",
            "ITERACION 228 \tNuevo más frecuente: ndeznä \tEntropía 6.87\n",
            "ITERACION 229 \tNuevo más frecuente: do \tEntropía 6.87\n",
            "ITERACION 230 \tNuevo más frecuente: mfeni \tEntropía 6.87\n",
            "ITERACION 231 \tNuevo más frecuente: thu \tEntropía 6.87\n",
            "ITERACION 232 \tNuevo más frecuente: ke \tEntropía 6.87\n",
            "ITERACION 233 \tNuevo más frecuente: ne \tEntropía 6.87\n",
            "ITERACION 234 \tNuevo más frecuente: chi \tEntropía 6.87\n",
            "ITERACION 235 \tNuevo más frecuente: b'a \tEntropía 6.87\n",
            "ITERACION 236 \tNuevo más frecuente: lco \tEntropía 6.87\n",
            "ITERACION 237 \tNuevo más frecuente: hña \tEntropía 6.87\n",
            "ITERACION 238 \tNuevo más frecuente: ñ'ehe \tEntropía 6.87\n",
            "ITERACION 239 \tNuevo más frecuente: se̱he̱ \tEntropía 6.88\n",
            "ITERACION 240 \tNuevo más frecuente: hi \tEntropía 6.88\n",
            "ITERACION 241 \tNuevo más frecuente: r'a \tEntropía 6.88\n",
            "ITERACION 242 \tNuevo más frecuente: nuua \tEntropía 6.88\n",
            "ITERACION 243 \tNuevo más frecuente: hñä \tEntropía 6.88\n",
            "ITERACION 244 \tNuevo más frecuente: y'e̱ \tEntropía 6.88\n",
            "ITERACION 245 \tNuevo más frecuente: udi \tEntropía 6.88\n",
            "ITERACION 246 \tNuevo más frecuente: po̱ \tEntropía 6.88\n",
            "ITERACION 247 \tNuevo más frecuente: ph \tEntropía 6.88\n",
            "ITERACION 248 \tNuevo más frecuente: pe \tEntropía 6.88\n",
            "ITERACION 249 \tNuevo más frecuente: noya \tEntropía 6.88\n",
            "ITERACION 250 \tNuevo más frecuente: gihe \tEntropía 6.88\n"
          ]
        }
      ]
    },
    {
      "cell_type": "markdown",
      "metadata": {
        "id": "1jMg_p1r0gtK"
      },
      "source": [
        "## Resultados"
      ]
    },
    {
      "cell_type": "markdown",
      "metadata": {
        "id": "jX8nsNbGyRU7"
      },
      "source": [
        "### Gráfica de evolución de la entropía separada por lengua con subword-nmt"
      ]
    },
    {
      "cell_type": "code",
      "metadata": {
        "colab": {
          "base_uri": "https://localhost:8080/",
          "height": 281
        },
        "id": "KVeFuE-SyRU8",
        "outputId": "f5f2f5c3-5851-46b8-f5c9-a840e92fa486"
      },
      "source": [
        "# mostrando la entropia \n",
        "plt.plot(range(1,len(h_otomi_2)+1),h_otomi_2,c=\"red\")\n",
        "plt.title(\"Entropía del otomí con subword-nmt\")\n",
        "plt.show()"
      ],
      "execution_count": null,
      "outputs": [
        {
          "output_type": "display_data",
          "data": {
            "image/png": "[encoded data removed]",
            "text/plain": [
              "<Figure size 432x288 with 1 Axes>"
            ]
          },
          "metadata": {
            "needs_background": "light"
          }
        }
      ]
    },
    {
      "cell_type": "code",
      "metadata": {
        "colab": {
          "base_uri": "https://localhost:8080/",
          "height": 281
        },
        "id": "NhUSgSz-yRU8",
        "outputId": "1a7d1218-ca3f-4d59-90c5-97ea4b1e6b83"
      },
      "source": [
        "plt.plot(range(1,len(h_español_2)+1),h_español_2,c=\"blue\")\n",
        "plt.title(\"Entropía del español con subword-nmt\")\n",
        "plt.show()"
      ],
      "execution_count": null,
      "outputs": [
        {
          "output_type": "display_data",
          "data": {
            "image/png": "[encoded data removed]",
            "text/plain": [
              "<Figure size 432x288 with 1 Axes>"
            ]
          },
          "metadata": {
            "needs_background": "light"
          }
        }
      ]
    },
    {
      "cell_type": "markdown",
      "metadata": {
        "id": "TpydHHBkyRU8"
      },
      "source": [
        "### Gráfica de la evolución de la entropía de ambas lenguas"
      ]
    },
    {
      "cell_type": "code",
      "metadata": {
        "colab": {
          "base_uri": "https://localhost:8080/",
          "height": 281
        },
        "id": "QBoua78oyRU9",
        "outputId": "e86ac3ac-de64-48bf-9c64-a5ee8b03e77a"
      },
      "source": [
        "plt.plot(range(1,len(h_español_2)+1),h_español_2,c=\"blue\",label=\"español\")\n",
        "plt.plot(range(1,len(h_otomi_2)+1),h_otomi_2,c=\"red\",label=\"otomi\")\n",
        "plt.title(\"Entropía del español-otomí con subword-nmt\")\n",
        "plt.legend()\n",
        "plt.show()"
      ],
      "execution_count": null,
      "outputs": [
        {
          "output_type": "display_data",
          "data": {
            "image/png": "[encoded data removed]",
            "text/plain": [
              "<Figure size 432x288 with 1 Axes>"
            ]
          },
          "metadata": {
            "needs_background": "light"
          }
        }
      ]
    },
    {
      "cell_type": "markdown",
      "metadata": {
        "id": "LD3ZZaGe1Ncc"
      },
      "source": [
        "### Gráfica de la evolución de la entropía de ambas lenguas ambos metodos"
      ]
    },
    {
      "cell_type": "code",
      "metadata": {
        "colab": {
          "base_uri": "https://localhost:8080/",
          "height": 281
        },
        "id": "qsK8ao6b1Nch",
        "outputId": "aeaa7821-05ff-4251-86a0-5b3b4a88d942"
      },
      "source": [
        "tam = max([len(h_español),len(h_otomi),len(h_otomi_2),len(h_español_2)])\n",
        "\n",
        "he_s = h_español_2 + ([h_español_2[-1]]*(tam-len(h_español_2)))\n",
        "ho_s = h_otomi_2 + ([h_otomi_2[-1]]*(tam-len(h_otomi_2)))\n",
        "he_p = h_español + ([h_español[-1]]*(tam-len(h_español)))\n",
        "ho_p = h_otomi + ([h_otomi[-1]]*(tam-len(h_otomi)))\n",
        "\n",
        "plt.plot(range(tam),he_s,c=\"blue\",label=\"español SWN\")\n",
        "plt.plot(range(tam),ho_s,c=\"red\",label=\"otomi SWN\")\n",
        "plt.plot(range(tam),he_p,c=\"green\",label=\"español Propio\")\n",
        "plt.plot(range(tam),ho_p,c=\"yellow\",label=\"otomi Propio\")\n",
        "plt.title(\"Entropía del español-otomí comparación\")\n",
        "plt.legend()\n",
        "plt.show()"
      ],
      "execution_count": null,
      "outputs": [
        {
          "output_type": "display_data",
          "data": {
            "image/png": "[encoded data removed]",
            "text/plain": [
              "<Figure size 432x288 with 1 Axes>"
            ]
          },
          "metadata": {
            "needs_background": "light"
          }
        }
      ]
    },
    {
      "cell_type": "markdown",
      "metadata": {
        "id": "bTbrhgIozgqa"
      },
      "source": [
        "### Curvas de Zipf subword-nmt"
      ]
    },
    {
      "cell_type": "code",
      "metadata": {
        "colab": {
          "base_uri": "https://localhost:8080/",
          "height": 295
        },
        "id": "ppsbONrKzgqg",
        "outputId": "6dbc0e69-6d58-456c-aa28-41e7ecc1ab14"
      },
      "source": [
        "from itertools import chain\n",
        "freqs_otomi = Counter(list(chain(*[oracion.split(\" \") \n",
        "                      for oracion in nuevo_otomi_2])))\n",
        "freqs_español = Counter(list(chain(*[oracion.split(\" \") \n",
        "                      for oracion in nuevo_español_2])))\n",
        "zipf_otomi = [x[1] for x in freqs_ordenado(freqs_otomi)]\n",
        "zipf_español = [x[1] for x in freqs_ordenado(freqs_español)]\n",
        "\n",
        "plt.scatter(range(len(zipf_otomi)),zipf_otomi,color=\"red\",label=\"Otomi\")\n",
        "plt.scatter(range(len(zipf_español)),zipf_español,color=\"blue\",label=\"Español\")\n",
        "plt.yscale(\"log\")\n",
        "plt.legend()\n",
        "plt.ylabel(\"Frecuencias log\")\n",
        "plt.xlabel(\"Grupos de palabras\")\n",
        "plt.title(\"Curvas de zipf después de BPE con subword-nmt\")\n",
        "plt.show()"
      ],
      "execution_count": null,
      "outputs": [
        {
          "output_type": "display_data",
          "data": {
            "image/png": "[encoded data removed]",
            "text/plain": [
              "<Figure size 432x288 with 1 Axes>"
            ]
          },
          "metadata": {
            "needs_background": "light"
          }
        }
      ]
    },
    {
      "cell_type": "markdown",
      "metadata": {
        "id": "HTo7eRAv0vyN"
      },
      "source": [
        "### Oraciones"
      ]
    },
    {
      "cell_type": "code",
      "metadata": {
        "colab": {
          "base_uri": "https://localhost:8080/"
        },
        "id": "NFn8LzzWCKx-",
        "outputId": "8f3d8085-6321-461d-e7d3-c17c65f83f45"
      },
      "source": [
        "print(\"Segmentación por Subword-nmt\")\n",
        "print(nuevo_español_2[0])\n",
        "print(\"Segmentación por BPE propio\")\n",
        "print(nuevo_español[0])\n",
        "print(\"\\nOriginal\")\n",
        "print(\" \".join(corpus_español_2[0]))"
      ],
      "execution_count": null,
      "outputs": [
        {
          "output_type": "stream",
          "name": "stdout",
          "text": [
            "Segmentación por Subword-nmt\n",
            "ar@@ de se ca@@ l@@ ci@@ n@@ a su co@@ r@@ a@@ z@@ ón y su cu@@ er@@ p@@ o est@@ á d@@ ol@@ i@@ ente de i@@ gu@@ al mo@@ do a m@@ í me ar@@ de y se ca@@ l@@ ci@@ n@@ a m@@ i co@@ r@@ a@@ z@@ ón\n",
            "\n",
            "Segmentación por BPE propio\n",
            "ar@@ de se c@@ al@@ c@@ in@@ a su c@@ or@@ a@@ z@@ ón y su cu@@ er@@ p@@ o es@@ t@@ á do@@ l@@ i@@ en@@ te de i@@ gu@@ al mo@@ do a m@@ í me ar@@ de y se c@@ al@@ c@@ in@@ a mi c@@ or@@ a@@ z@@ ón\n",
            "\n",
            "Original\n",
            "arde se calcina su corazón y su cuerpo está doliente de igual modo a mí me arde y se calcina mi corazón\n"
          ]
        }
      ]
    },
    {
      "cell_type": "code",
      "metadata": {
        "colab": {
          "base_uri": "https://localhost:8080/"
        },
        "id": "7DGyllnxzXY8",
        "outputId": "d9033b29-e897-43c9-9595-4aeb57b08319"
      },
      "source": [
        "print(\"Segmentación por Subword-nmt\")\n",
        "print(nuevo_otomi_2[0])\n",
        "print(\"Segmentación por BPE propio\")\n",
        "print(nuevo_otomi[0])\n",
        "print(\"\\nOriginal\")\n",
        "print(\" \".join(corpus_otomi_2[0]))"
      ],
      "execution_count": null,
      "outputs": [
        {
          "output_type": "stream",
          "name": "stdout",
          "text": [
            "Segmentación por Subword-nmt\n",
            "z@@ o̱ da z@@ o@@ t'i ri nd@@ ä@@ te ne ri ng@@ o̱@@ k'@@ e@@ i ya@@ bu̱ xa ñ'@@ u̱ ma@@ hy@@ e̱@@ gi nu@@ gi z@@ o̱ ne da z@@ ä@@ t'i ma nd@@ ä@@ te\n",
            "\n",
            "Segmentación por BPE propio\n",
            "z@@ o̱ da z@@ o@@ t'i ri nd@@ ä@@ te ne ri ng@@ o̱@@ k@@ 'e@@ i ya@@ bu̱ xa ñ@@ 'u̱ ma@@ h@@ y@@ e̱@@ gi nu@@ gi z@@ o̱ ne da z@@ ä@@ t'i ma nd@@ ä@@ te\n",
            "\n",
            "Original\n",
            "zo̱ da zot'i ri ndäte ne ri ngo̱k'ei yabu̱ xa ñ'u̱ mahye̱gi nugi zo̱ ne da zät'i ma ndäte\n"
          ]
        }
      ]
    },
    {
      "cell_type": "markdown",
      "metadata": {
        "id": "l26x7xWS51Y7"
      },
      "source": [
        "# Conclusiones\n",
        "Nuestra implementación consigue mejores resultados respecto a la entropía de la segmentación. Subword-NMT tiene mejores resultados, pero tarda más iteraciones en obtener un valor de entropía bueno. Al final, vemos como con 150 iteraciones para el Español y 250 para el otomí, la entropía de los lenguajes empieza a empeorar."
      ]
    }
  ]
}