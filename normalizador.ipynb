{
  "nbformat": 4,
  "nbformat_minor": 0,
  "metadata": {
    "colab": {
      "name": "normalizador.ipynb",
      "provenance": [],
      "collapsed_sections": []
    },
    "kernelspec": {
      "name": "python3",
      "display_name": "Python 3"
    },
    "language_info": {
      "name": "python"
    }
  },
  "cells": [
    {
      "cell_type": "code",
      "metadata": {
        "id": "E_pgAO2_BUN5"
      },
      "source": [
        "quatl -> cua    (qua)   --> cu/_a\n",
        "vcatl -> (cuh|cu|uc|vc|ku)  --> cu/_a,e,i\n",
        "\tvcatl -> (cuh|cu|uc|vc|ku)  --> cu/_a,e,i\n",
        "tlahkuihuilias, sioatl -> [aeiou](hu|o|u|v)(a|e|i) --> hu/_a,e,i\n",
        "\n",
        "uhc -> (uh[bcdfghjklmnpqrstvwxyz]) --> hu/_a,e,i\n",
        "\n",
        "niiauh -> ([aeio](i|y|j)[aeio]) --> y\n",
        "\n",
        "cyoatl -> ([bcdfghjklmnpqrstvwxyz](i|y|j))|((i|y|j)[bcdfghjklmnpqrstvwxyz]) --> i\n",
        "\n",
        " -> (ç|z|s|c[ei]) --> z\n",
        " ->(tl|l|t)[^\\w] --> tl"
      ],
      "execution_count": null,
      "outputs": []
    },
    {
      "cell_type": "markdown",
      "source": [
        "# Importación de bibliotecas"
      ],
      "metadata": {
        "id": "JLtu6WD4M22_"
      }
    },
    {
      "cell_type": "code",
      "metadata": {
        "id": "l0mHpFdHAc2t",
        "colab": {
          "base_uri": "https://localhost:8080/"
        },
        "outputId": "c77dc52a-7738-4aa0-ad87-e5a9f5939814"
      },
      "source": [
        "import re\n",
        "print(re.__version__)"
      ],
      "execution_count": null,
      "outputs": [
        {
          "output_type": "stream",
          "name": "stdout",
          "text": [
            "2.2.1\n"
          ]
        }
      ]
    },
    {
      "cell_type": "code",
      "metadata": {
        "id": "FORGtZDTLOAB"
      },
      "source": [
        "import os\n",
        "import string"
      ],
      "execution_count": null,
      "outputs": []
    },
    {
      "cell_type": "markdown",
      "source": [
        "# Definición del normalizador"
      ],
      "metadata": {
        "id": "S-ZE8pnzM6EY"
      }
    },
    {
      "cell_type": "code",
      "metadata": {
        "id": "9aZ8sa8yKAnY"
      },
      "source": [
        "def normalizar(w):\n",
        "  '''Normaliza una cadena w\n",
        "\n",
        "  Parámetros\n",
        "  w: Cadena a normalizar\n",
        "\n",
        "  return cadena normalizada'''\n",
        "\n",
        "  # ([aeio](i|y|j)[aeio]) --> y\n",
        "  w = re.sub(r'([aeio])(i|y|j)([aeio])', r'\\1y\\3', w)\n",
        "  # ([bcdfghjklmnpqrstvwxyz](i|y|j))|((i|y|j)[bcdfghjklmnpqrstvwxyz]) --> i\n",
        "  w = re.sub(r'([bcdfghjklmnpqrstvwxyz])(i|y|j)', r'\\1i', w)\n",
        "  w = re.sub(r'(i|y|j)([bcdfghjklmnpqrstvwxyz])', r'i\\2', w)\n",
        "  # (qua)   --> cu/_a\n",
        "  w = re.sub(r'qua', r'cua', w) \n",
        "  w = re.sub(r'kw', r'cu', w) \n",
        "  # (cuh|cu|uc|vc|ku)  --> cu/_a,e,i\n",
        "  w = re.sub(r'(cuh|cu|uc|vc|ku)([aei])', r'cu\\2', w)\n",
        "  # [aeiou](hu|o|u|v)(a|e|i) --> hu/_a,e,i\n",
        "  w = re.sub(r'([aeiou])(hu|o|u|v|ho|w|hw)(a|e|i)', r'\\1hu\\3', w)\n",
        "  w = re.sub(r'(w|u)([kt])', r'uh\\2', w)\n",
        "  w = re.sub(r'(w)(a|e|i)', r'hu\\2', w)\n",
        "  # hu/_a,e,i\n",
        "  # w = re.sub(r'uh([bcdfghjklmnpqrstvwxyz])', r'hu\\1', w)\n",
        "  # (ç|z|s|c[ei]) --> z\n",
        "  w = re.sub(r'(ç|z|s)', r'z', w)\n",
        "  w = re.sub(r'c([ei])', r'z\\1', w)\n",
        "  # (tl|l|t)[^\\w] --> tl \n",
        "  # |\\'\n",
        "  w = re.sub(r'(tl|l|t)([^\\w])', r'tl\\2', w)\n",
        "\n",
        "  return w"
      ],
      "execution_count": null,
      "outputs": []
    },
    {
      "cell_type": "markdown",
      "source": [
        "# Pruebas"
      ],
      "metadata": {
        "id": "sf_RsOK0M9Jo"
      }
    },
    {
      "cell_type": "code",
      "metadata": {
        "id": "Mhh1woj-CASh"
      },
      "source": [
        "w = \"\"\"cihoatl\n",
        "çihoatl\n",
        "Cihuatl\n",
        "cihuatl\n",
        "Cihuatl\n",
        "CIHUATL\n",
        "cihuatl\n",
        "cioatl\n",
        "çioatl\n",
        "ciuatl\n",
        "Ciuatl\n",
        "ciuatl\n",
        "çiuatl\n",
        "ciuatl.\n",
        "ciuatl; plural ciua\n",
        "çivatl\n",
        "civatl\n",
        "sihuâ'\n",
        "zihual\n",
        "Zihuat\n",
        "Zihuat \n",
        "iwan\n",
        "\n",
        "\n",
        "uhu\n",
        "huu\n",
        "\n",
        "\"\"\"\n",
        "print(normalizar(w.lower()))"
      ],
      "execution_count": null,
      "outputs": []
    },
    {
      "cell_type": "markdown",
      "source": [
        "# Aplicación al corpus"
      ],
      "metadata": {
        "id": "OvvEPkAEM_Mw"
      }
    },
    {
      "cell_type": "markdown",
      "source": [
        "Se cargan los archivos de nuestro corpus y se concatenan. Preprocesamiento de los datos."
      ],
      "metadata": {
        "id": "sGMJi3KfNGBg"
      }
    },
    {
      "cell_type": "code",
      "metadata": {
        "colab": {
          "base_uri": "https://localhost:8080/"
        },
        "id": "jvKlO6dPKXQG",
        "outputId": "6b1b9e5e-3c0e-4a88-9882-8f16b70af65b"
      },
      "source": [
        "!git clone https://github.com/SIA-FI/tenolli.git"
      ],
      "execution_count": null,
      "outputs": [
        {
          "output_type": "stream",
          "name": "stdout",
          "text": [
            "Cloning into 'tenolli'...\n",
            "remote: Enumerating objects: 46, done.\u001b[K\n",
            "remote: Counting objects: 100% (46/46), done.\u001b[K\n",
            "remote: Compressing objects: 100% (43/43), done.\u001b[K\n",
            "remote: Total 46 (delta 13), reused 12 (delta 1), pack-reused 0\u001b[K\n",
            "Unpacking objects: 100% (46/46), done.\n"
          ]
        }
      ]
    },
    {
      "cell_type": "code",
      "metadata": {
        "id": "UuujSusHLTC_"
      },
      "source": [
        "# Variable global\n",
        "corpus_grandote = list()\n",
        "\n",
        "for archivo in os.listdir(\"/content/tenolli/Corpus\"):\n",
        "  with open(\"/content/tenolli/Corpus/\"+archivo,\"r\") as file:\n",
        "    corpus_grandote.extend(file.readlines())"
      ],
      "execution_count": null,
      "outputs": []
    },
    {
      "cell_type": "code",
      "metadata": {
        "id": "Ld1Z_Oc_PEHI"
      },
      "source": [
        "# Variables globales\n",
        "corpus_nahuatl = \"\"\n",
        "corpus_español = \"\"\n",
        "\n",
        "# Procesamiento\n",
        "for oracion in corpus_grandote:\n",
        "  if oracion == \"\\n\" or oracion == \"\":\n",
        "    continue\n",
        "  separacion = oracion.split(\"\\t\")\n",
        "  if len(separacion)<2:\n",
        "    print(separacion)\n",
        "  else:\n",
        "    corpus_nahuatl += separacion[0]+\"\\n\"\n",
        "    corpus_español += separacion[1].replace(\"\\n\",\"\")+\"\\n\""
      ],
      "execution_count": null,
      "outputs": []
    },
    {
      "cell_type": "code",
      "metadata": {
        "colab": {
          "base_uri": "https://localhost:8080/",
          "height": 35
        },
        "id": "KKfHIcpoQ_Jf",
        "outputId": "72c0bf4c-6b3b-479e-df67-2b2b029677fc"
      },
      "source": [
        "string.punctuation"
      ],
      "execution_count": null,
      "outputs": [
        {
          "output_type": "execute_result",
          "data": {
            "application/vnd.google.colaboratory.intrinsic+json": {
              "type": "string"
            },
            "text/plain": [
              "'!\"#$%&\\'()*+,-./:;<=>?@[\\\\]^_`{|}~'"
            ]
          },
          "metadata": {},
          "execution_count": 7
        }
      ]
    },
    {
      "cell_type": "code",
      "metadata": {
        "colab": {
          "base_uri": "https://localhost:8080/"
        },
        "id": "yxyKmvJuNmAI",
        "outputId": "08bac4d6-9218-4c14-d7ae-3c505813f403"
      },
      "source": [
        "corpus_nahuatl = corpus_nahuatl.lower()\n",
        "\n",
        "# Variables globales\n",
        "signos = string.punctuation.replace(\":\",\"\").replace(\"'\",\"\")\n",
        "corpus_nahuatl_limpio = corpus_nahuatl\n",
        "\n",
        "# Se quitan los signos de puntuación\n",
        "for signo in list(signos)+[\"\\ufeff\"]:\n",
        "  corpus_nahuatl_limpio = corpus_nahuatl_limpio.replace(signo,\"\")\n",
        "\n",
        "# Variables globales\n",
        "acentos = [\n",
        "            (\"á\",\"a\"),\n",
        "            (\"é\",\"e\"),\n",
        "            (\"í\",\"i\"),\n",
        "            (\"ó\",\"o\"),\n",
        "            (\"ú\",\"u\"),\n",
        "          ]\n",
        "# Se mapean acentos\n",
        "for acento,sin_acento in acentos:\n",
        "  corpus_nahuatl_limpio = corpus_nahuatl_limpio.replace(acento,sin_acento)"
      ],
      "execution_count": null,
      "outputs": [
        {
          "output_type": "stream",
          "name": "stdout",
          "text": [
            "!\"#$%&()*+,-./;<=>?@[\\]^_`{|}~\n"
          ]
        }
      ]
    },
    {
      "cell_type": "code",
      "metadata": {
        "id": "C38sXKiZRE_O"
      },
      "source": [
        "# Variable global\n",
        "corpus_normalizado = normalizar(corpus_nahuatl_limpio)"
      ],
      "execution_count": null,
      "outputs": []
    },
    {
      "cell_type": "markdown",
      "source": [
        "# Imprimir archivos"
      ],
      "metadata": {
        "id": "AVAQqD7bNuka"
      }
    },
    {
      "cell_type": "code",
      "metadata": {
        "id": "YsA7zcj4VLtF",
        "colab": {
          "base_uri": "https://localhost:8080/"
        },
        "outputId": "fb823101-ad0f-4e6b-9dc4-ea1f5d6a22b5"
      },
      "source": [
        "oraciones_nahuatl = [oracion+\"\\n\" for oracion in corpus_normalizado.split(\"\\n\")]\n",
        "print(len(oraciones_nahuatl))"
      ],
      "execution_count": null,
      "outputs": [
        {
          "output_type": "stream",
          "name": "stdout",
          "text": [
            "37523\n"
          ]
        }
      ]
    },
    {
      "cell_type": "code",
      "source": [
        "oraciones_español = [oracion+\"\\n\" for oracion in corpus_español.split(\"\\n\")]\n",
        "print(len(oraciones_español))"
      ],
      "metadata": {
        "colab": {
          "base_uri": "https://localhost:8080/"
        },
        "id": "uIUIs8XZNM0s",
        "outputId": "25f03daf-43a8-42b9-a8aa-ba7466d127a5"
      },
      "execution_count": null,
      "outputs": [
        {
          "output_type": "stream",
          "name": "stdout",
          "text": [
            "37523\n"
          ]
        }
      ]
    },
    {
      "cell_type": "code",
      "source": [
        "from google.colab import drive\n",
        "drive.mount('/content/drive')"
      ],
      "metadata": {
        "colab": {
          "base_uri": "https://localhost:8080/"
        },
        "id": "csr6lrDOORiR",
        "outputId": "8ca4b0a5-10f6-4a06-8ac3-2a693d5684cc"
      },
      "execution_count": null,
      "outputs": [
        {
          "output_type": "stream",
          "name": "stdout",
          "text": [
            "Mounted at /content/drive\n"
          ]
        }
      ]
    },
    {
      "cell_type": "code",
      "metadata": {
        "id": "2y-XrL0GTZPy"
      },
      "source": [
        "with open(\"/content/drive/MyDrive/IngenieriaComputacion/NLP/Tenolli/nah.txt\",\"w\") as file:\n",
        "  file.writelines(oraciones_nahuatl)"
      ],
      "execution_count": null,
      "outputs": []
    },
    {
      "cell_type": "code",
      "source": [
        "with open(\"/content/drive/MyDrive/IngenieriaComputacion/NLP/Tenolli/esp.txt\",\"w\") as file:\n",
        "  file.writelines(oraciones_español)"
      ],
      "metadata": {
        "id": "s_lQYQ-zOcR6"
      },
      "execution_count": null,
      "outputs": []
    }
  ]
}