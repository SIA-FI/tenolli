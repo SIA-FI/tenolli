{
  "nbformat": 4,
  "nbformat_minor": 0,
  "metadata": {
    "colab": {
      "name": "tokenizer.ipynb",
      "provenance": [],
      "collapsed_sections": [
        "G2F9bojGhf3u"
      ]
    },
    "kernelspec": {
      "display_name": "Python 3",
      "name": "python3"
    },
    "language_info": {
      "name": "python"
    }
  },
  "cells": [
    {
      "cell_type": "markdown",
      "metadata": {
        "id": "G2F9bojGhf3u"
      },
      "source": [
        "# Instalación y carga de datos"
      ]
    },
    {
      "cell_type": "code",
      "metadata": {
        "id": "Ygif9xPydAWj",
        "colab": {
          "base_uri": "https://localhost:8080/"
        },
        "outputId": "36199d1b-592f-4ee0-9093-84d0447326d0"
      },
      "source": [
        "from collections import Counter\n",
        "from operator import itemgetter\n",
        "import matplotlib.pyplot as plt\n",
        "import numpy as np\n",
        "from google.colab import drive\n",
        "drive.mount('/content/drive')"
      ],
      "execution_count": null,
      "outputs": [
        {
          "output_type": "stream",
          "name": "stdout",
          "text": [
            "Mounted at /content/drive\n"
          ]
        }
      ]
    },
    {
      "cell_type": "markdown",
      "metadata": {
        "id": "r8LpJtbdhC3W"
      },
      "source": [
        "# Implementación de BPE\n"
      ]
    },
    {
      "cell_type": "markdown",
      "metadata": {
        "id": "XOeI8gKOj7q9"
      },
      "source": [
        "## Funciones auxiliares"
      ]
    },
    {
      "cell_type": "markdown",
      "metadata": {
        "id": "pTdEGJwXjX7G"
      },
      "source": [
        "Aquí ponermos las funciones auxiliares para utilizar el algoritmo **BPE**"
      ]
    },
    {
      "cell_type": "code",
      "metadata": {
        "id": "zc3GUoFptllO"
      },
      "source": [
        "def generar_caracteres(corpus):\n",
        "  '''Nos genera un conjunto que separa las palabras en caracteres\n",
        "\n",
        "  Parámetros\n",
        "  corpus: Corpus. Lista de oraciones. Las oraciones son listas de palabras\n",
        "  \n",
        "  return corpus separado por oraciones y estas separadas en caracteres\n",
        "  '''\n",
        "  conjunto = list()\n",
        "  # por cada oración del corpus\n",
        "  for oracion in corpus:\n",
        "    nueva_oracion = list()\n",
        "    # por cada palabra de la oración\n",
        "    for palabra in oracion:\n",
        "      nueva_palabra = list(\"\".join(palabra.split()))\n",
        "      nueva_oracion.append(nueva_palabra)\n",
        "    conjunto.append(nueva_oracion)\n",
        "  \n",
        "  return conjunto\n",
        "\n",
        "def generar_pares(conjunto):\n",
        "  '''Genera los pares de caracteres por palabras\n",
        "\n",
        "  Parámetro\n",
        "  conjunto: lista de oraciones de palabras separadas por caracteres\n",
        "\n",
        "  return pares de caracteres en corpus\n",
        "  '''\n",
        "  pares_conjunto = list()\n",
        "  for oracion in conjunto:\n",
        "    for palabra in oracion:\n",
        "      if len(palabra)==1:\n",
        "        continue\n",
        "      pares = [palabra[i]+palabra[i+1] for i in range(len(palabra)-1)]\n",
        "      pares_conjunto.extend(pares)\n",
        "  \n",
        "  return pares_conjunto\n",
        "\n",
        "def freqs_ordenado(freqs):\n",
        "  '''Regresa una lista con los pares de caracteres y sus frecuencias\n",
        "  \n",
        "  Parámetro\n",
        "  freqs: frecuencia (objeto Counter o diccionario) de las palabras en el\n",
        "  corpus\n",
        "\n",
        "  return lista de pares y sus frecuencias\n",
        "  '''\n",
        "  # Generamos una lista con los items (key,value) del counter, \n",
        "  # ordenandolos por el value (conteo)\n",
        "  return sorted(freqs.items(), key=itemgetter(1), reverse=True)\n",
        "\n",
        "def generar_nuevo_conjunto(mf,conjunto):\n",
        "  '''Genera un nuevo corpus juntando en un caracter el par de caracteres\n",
        "  más frecuente\n",
        "  \n",
        "  Parámetros\n",
        "  mf: Elemento o par más frecuente\n",
        "  conjunto: Corpus separado\n",
        "\n",
        "  return conjunto con el par más frecuente unido\n",
        "  '''\n",
        "  # generamos un conjunto de oraciones nuevo\n",
        "  new_conjunto = list()\n",
        "  # para cada oración del conjunto \n",
        "  for oracion in conjunto:\n",
        "    new_oracion = list()\n",
        "    # para cada palabra de la oración\n",
        "    for palabra in oracion:\n",
        "      new_palabra = list()\n",
        "      i = 1\n",
        "      # si la palabra tiene por lo menos dos caracteres para formar un par\n",
        "      if len(palabra)>1: \n",
        "        # iteramos cada palabra, comparando por pares, empezamos en el \n",
        "        # indice 1 pero siempre agregamos el elemento i-1 en caso de no\n",
        "        # ser parte del par mf. \n",
        "        while i < len(palabra):\n",
        "          # si es parte del par mf\n",
        "          if palabra[i-1]+palabra[i] == mf:\n",
        "            new_palabra.append(palabra[i-1]+palabra[i])\n",
        "            i+=1\n",
        "          # si no es parte del par mf\n",
        "          else:\n",
        "            new_palabra.append(palabra[i-1])\n",
        "          # Valida si es el último\n",
        "          if i == len(palabra)-1:\n",
        "            new_palabra.append(palabra[i])\n",
        "          i+=1\n",
        "      # si la palabra tiene solo un elemento\n",
        "      else:\n",
        "        # se agrega tal cual a la nueva oración\n",
        "        new_palabra = palabra\n",
        "      new_oracion.append(new_palabra)\n",
        "    # se agrega la nueva oración al nuevo conjunto\n",
        "    new_conjunto.append(new_oracion)\n",
        "\n",
        "  return new_conjunto\n",
        "\n",
        "def limpiar(conjunto):\n",
        "  '''Regresa una lista con todas las palabras\n",
        "  \n",
        "  Parámetros\n",
        "  conjunto: Corpus, lista de oraciones separadas por palabras\n",
        "\n",
        "  return corpus en forma de listas de listas caracteres\n",
        "  '''\n",
        "  nc = list()\n",
        "  for oracion in conjunto:\n",
        "    n_oracion = list()\n",
        "    for palabra in oracion:\n",
        "      n_oracion.extend(palabra)\n",
        "    nc.extend(n_oracion)\n",
        "\n",
        "  return nc "
      ],
      "execution_count": null,
      "outputs": []
    },
    {
      "cell_type": "markdown",
      "metadata": {
        "id": "Ewl3uMlJkSlg"
      },
      "source": [
        "Función para calcular la entropía de la representación del corpus. De un modelo del lenguaje."
      ]
    },
    {
      "cell_type": "code",
      "metadata": {
        "id": "O0n80vFRNKqq"
      },
      "source": [
        "def entropia(palabras):\n",
        "  \"\"\"\n",
        "  Calcula la entropía de un conjunto\n",
        "\n",
        "  Parámetros\n",
        "  palabras: Corpus en forma de lista de palabras\n",
        "\n",
        "  return entropía del conjunto\n",
        "  \"\"\"\n",
        "  # Frecuencia de cada simbolo en el vocabulario\n",
        "  fr = Counter(palabras)\n",
        "  \n",
        "  freq = np.array(list(fr.values()))\n",
        "\n",
        "  # Probabilidad de los simbolos\n",
        "  p = freq/freq.sum()\n",
        "  # Entropía del vocabulario\n",
        "  H = (np.log(p).sum())/(-len(p))\n",
        "\n",
        "  return H"
      ],
      "execution_count": null,
      "outputs": []
    },
    {
      "cell_type": "markdown",
      "metadata": {
        "id": "t6VpffJlleou"
      },
      "source": [
        "Función que genera las señalizaciones de continuación de palabras, para el futuro rescate de las traducciones."
      ]
    },
    {
      "cell_type": "code",
      "metadata": {
        "id": "p5ZwnhKPld4m"
      },
      "source": [
        "def delimitadorPalabras(lenguaje_BPE):\n",
        "  '''Genera un corpus de oraciones con los delimitadores\n",
        "  \n",
        "  Parámetros\n",
        "  lenguaje_BPE: Corpus tokenizado\n",
        "\n",
        "  return corpus agregando @@ para tokens con continuación de palabra\n",
        "  '''\n",
        "  lengua_nueva = []\n",
        "  for oracion in lenguaje_BPE:\n",
        "    lengua_nueva.append(\" \".join([\"@@ \".join(palabra) for palabra in oracion]))\n",
        "\n",
        "  return lengua_nueva"
      ],
      "execution_count": null,
      "outputs": []
    },
    {
      "cell_type": "markdown",
      "metadata": {
        "id": "9BxldI6_j-yF"
      },
      "source": [
        "## Implementación concreta, función BPE"
      ]
    },
    {
      "cell_type": "code",
      "metadata": {
        "id": "PeGBbqb_hCZP"
      },
      "source": [
        "def BPE(corpus, n_iteraciones = 100):\n",
        "  '''Implementación de BPE\n",
        "  \n",
        "  Parámetros\n",
        "  corpus: corpus de forma lista de oraciones/documentos\n",
        "\n",
        "  return corpus segmentado por subwords y lista de entropía\n",
        "  '''\n",
        "  # separamos por caracteres\n",
        "  conjunto = generar_caracteres(corpus)\n",
        "\n",
        "  # Entropias\n",
        "  H = list()\n",
        "\n",
        "  # Iteraciones del BPE\n",
        "  for iteracion in range(n_iteraciones):\n",
        "\n",
        "    print(\"ITERACIÓN \"+str(iteracion+1),end=\"\")\n",
        "\n",
        "    # Generamos los pares de caracteres\n",
        "    pares = generar_pares(conjunto)\n",
        "\n",
        "    # contamos la frecuencia de los pares en la lista con Counter\n",
        "    freqs = Counter(pares)\n",
        "    freqs = freqs_ordenado(freqs)  \n",
        "    #print(\"\\tFrecuencias:\",dict(freqs[:10]))\n",
        "\n",
        "    # Obtenemos el elemento con mayor frecuencia\n",
        "    mf = freqs[0][0]\n",
        "    val = freqs[0][1]\n",
        "    print(\"\\tMas frecuente: {} \\t- {}\".format(mf,val))\n",
        "\n",
        "    # imprimimos el antes y el después\n",
        "    #print(\"\\tantes:\",conjunto[0])\n",
        "    conjunto = generar_nuevo_conjunto(mf,conjunto)\n",
        "    #print(\"\\tdespues:\",conjunto[0])\n",
        "\n",
        "    H.append(entropia(limpiar(conjunto)))\n",
        "  \n",
        "  return delimitadorPalabras(conjunto),H"
      ],
      "execution_count": null,
      "outputs": []
    },
    {
      "cell_type": "markdown",
      "metadata": {
        "id": "_dWpSShukGS1"
      },
      "source": [
        "# Función que proporciona el preprocesamiento del corpus"
      ]
    },
    {
      "cell_type": "code",
      "metadata": {
        "id": "H5p6y2qdogen"
      },
      "source": [
        "def pre_proceso(corpus, dos_puntos=True):\n",
        "  \"\"\"\n",
        "  Preprocesamiento de datos\n",
        "\n",
        "  Parámetros\n",
        "  corpus: Corpus a preprocesar\n",
        "  dos_puntos: Indica si se deben quitar los dos puntos o no del corpus\n",
        "\n",
        "  return corpus preprocesado\n",
        "  \"\"\"\n",
        "  # Lo juntamos para poder quitar los elementos no lexicos facilmente\n",
        "  doc=\"\\n\".join(corpus).lower() # Checar si debe estar en minusculas ***********\n",
        "  # Checar si quitamos números *************************************************\n",
        "  # Quitamos elementos no lexicos\n",
        "  no_lex = list(\"{}¿?[]“”=…\\t«»•_¡!;(),.-—*\"+'‘'+'\"'+'ʼ')\n",
        "  if dos_puntos:\n",
        "    no_lex += [\":\"]\n",
        "  for nl in no_lex:\n",
        "    doc=doc.replace(nl,\"\")\n",
        "  # Separamos las oraciones por palabras \n",
        "  sep = [[ y for y in x.split(\" \") if len(y)>0] for x in doc.split(\"\\n\")]\n",
        "  return sep"
      ],
      "execution_count": null,
      "outputs": []
    },
    {
      "cell_type": "markdown",
      "metadata": {
        "id": "cekaKd3Nk9zX"
      },
      "source": [
        "# Ejecución del algoritmo **BPE**"
      ]
    },
    {
      "cell_type": "markdown",
      "metadata": {
        "id": "RNmOIV7MlJaV"
      },
      "source": [
        "##Limpieza, preprocesamiento del corpus"
      ]
    },
    {
      "cell_type": "code",
      "metadata": {
        "id": "S2tRDNljQqfZ"
      },
      "source": [
        "with open(\"/content/drive/MyDrive/IngenieriaComputacion/NLP/Tenolli/nah.txt\",\"r\") as f:\n",
        "  nahuatl = f.readlines()\n",
        "\n",
        "with open(\"/content/drive/MyDrive/IngenieriaComputacion/NLP/Tenolli/esp.txt\",\"r\") as f:\n",
        "  español = f.readlines()\n",
        "\n",
        "corpus_nahuatl = pre_proceso(nahuatl, False)\n",
        "corpus_español = pre_proceso(español, False)"
      ],
      "execution_count": null,
      "outputs": []
    },
    {
      "cell_type": "markdown",
      "metadata": {
        "id": "e8j6pP9nlMmG"
      },
      "source": [
        "##Ejecución de **BPE**\n",
        "Se decidió dar las mismas iteraciones a ambos corpus para evitar que haya problemas al momento de tratar de alinear las oraciones"
      ]
    },
    {
      "cell_type": "code",
      "metadata": {
        "colab": {
          "base_uri": "https://localhost:8080/"
        },
        "id": "AWzsJZ0jXwVK",
        "outputId": "7b338552-f606-4471-ca3b-49dac4f9a4e2"
      },
      "source": [
        "nuevo_nahuatl, h_nahuatl = BPE(corpus_nahuatl,157)"
      ],
      "execution_count": null,
      "outputs": [
        {
          "output_type": "stream",
          "name": "stdout",
          "text": [
            "ITERACIÓN 1\tMas frecuente: hu \t- 74662\n",
            "ITERACIÓN 2\tMas frecuente: tl \t- 68707\n",
            "ITERACIÓN 3\tMas frecuente: in \t- 65391\n",
            "ITERACIÓN 4\tMas frecuente: an \t- 55296\n",
            "ITERACIÓN 5\tMas frecuente: hua \t- 37053\n",
            "ITERACIÓN 6\tMas frecuente: qu \t- 36795\n",
            "ITERACIÓN 7\tMas frecuente: ti \t- 35500\n",
            "ITERACIÓN 8\tMas frecuente: ca \t- 34715\n",
            "ITERACIÓN 9\tMas frecuente: mo \t- 32413\n",
            "ITERACIÓN 10\tMas frecuente: ch \t- 31371\n",
            "ITERACIÓN 11\tMas frecuente: te \t- 30105\n",
            "ITERACIÓN 12\tMas frecuente: :n \t- 29869\n",
            "ITERACIÓN 13\tMas frecuente: ma \t- 27782\n",
            "ITERACIÓN 14\tMas frecuente: tla \t- 26347\n",
            "ITERACIÓN 15\tMas frecuente: to \t- 25815\n",
            "ITERACIÓN 16\tMas frecuente: li \t- 25617\n",
            "ITERACIÓN 17\tMas frecuente: tz \t- 24587\n",
            "ITERACIÓN 18\tMas frecuente: qui \t- 21055\n",
            "ITERACIÓN 19\tMas frecuente: pa \t- 20599\n",
            "ITERACIÓN 20\tMas frecuente: cu \t- 19884\n",
            "ITERACIÓN 21\tMas frecuente: ze \t- 19275\n",
            "ITERACIÓN 22\tMas frecuente: hui \t- 18894\n",
            "ITERACIÓN 23\tMas frecuente: ki \t- 18696\n",
            "ITERACIÓN 24\tMas frecuente: chi \t- 18430\n",
            "ITERACIÓN 25\tMas frecuente: uh \t- 18010\n",
            "ITERACIÓN 26\tMas frecuente: yo \t- 16150\n",
            "ITERACIÓN 27\tMas frecuente: ne \t- 16137\n",
            "ITERACIÓN 28\tMas frecuente: ta \t- 15371\n",
            "ITERACIÓN 29\tMas frecuente: ka \t- 14653\n",
            "ITERACIÓN 30\tMas frecuente: no \t- 14551\n",
            "ITERACIÓN 31\tMas frecuente: co \t- 14363\n",
            "ITERACIÓN 32\tMas frecuente: ni \t- 13997\n",
            "ITERACIÓN 33\tMas frecuente: ye \t- 12548\n",
            "ITERACIÓN 34\tMas frecuente: mi \t- 12040\n",
            "ITERACIÓN 35\tMas frecuente: que \t- 12035\n",
            "ITERACIÓN 36\tMas frecuente: ya \t- 11228\n",
            "ITERACIÓN 37\tMas frecuente: me \t- 10782\n",
            "ITERACIÓN 38\tMas frecuente: cua \t- 10739\n",
            "ITERACIÓN 39\tMas frecuente: ke \t- 10607\n",
            "ITERACIÓN 40\tMas frecuente: pan \t- 10065\n",
            "ITERACIÓN 41\tMas frecuente: xi \t- 9609\n",
            "ITERACIÓN 42\tMas frecuente: huan \t- 9242\n",
            "ITERACIÓN 43\tMas frecuente: hue \t- 9079\n",
            "ITERACIÓN 44\tMas frecuente: po \t- 8918\n",
            "ITERACIÓN 45\tMas frecuente: a: \t- 8743\n",
            "ITERACIÓN 46\tMas frecuente: on \t- 8446\n",
            "ITERACIÓN 47\tMas frecuente: ko \t- 8096\n",
            "ITERACIÓN 48\tMas frecuente: lo \t- 8049\n",
            "ITERACIÓN 49\tMas frecuente: tzi \t- 7841\n",
            "ITERACIÓN 50\tMas frecuente: ic \t- 7740\n",
            "ITERACIÓN 51\tMas frecuente: can \t- 7335\n",
            "ITERACIÓN 52\tMas frecuente: yo:n \t- 7289\n",
            "ITERACIÓN 53\tMas frecuente: tzin \t- 7276\n",
            "ITERACIÓN 54\tMas frecuente: hua:n \t- 7197\n",
            "ITERACIÓN 55\tMas frecuente: tli \t- 7093\n",
            "ITERACIÓN 56\tMas frecuente: ke: \t- 6978\n",
            "ITERACIÓN 57\tMas frecuente: mah \t- 6919\n",
            "ITERACIÓN 58\tMas frecuente: pe \t- 6847\n",
            "ITERACIÓN 59\tMas frecuente: pi \t- 6799\n",
            "ITERACIÓN 60\tMas frecuente: lli \t- 6674\n",
            "ITERACIÓN 61\tMas frecuente: zi \t- 6598\n",
            "ITERACIÓN 62\tMas frecuente: man \t- 6395\n",
            "ITERACIÓN 63\tMas frecuente: za \t- 6220\n",
            "ITERACIÓN 64\tMas frecuente: ihuan \t- 5395\n",
            "ITERACIÓN 65\tMas frecuente: cui \t- 5364\n",
            "ITERACIÓN 66\tMas frecuente: na \t- 5280\n",
            "ITERACIÓN 67\tMas frecuente: huitl \t- 5183\n",
            "ITERACIÓN 68\tMas frecuente: lti \t- 5095\n",
            "ITERACIÓN 69\tMas frecuente: mpa \t- 4973\n",
            "ITERACIÓN 70\tMas frecuente: de \t- 4970\n",
            "ITERACIÓN 71\tMas frecuente: hto \t- 4970\n",
            "ITERACIÓN 72\tMas frecuente: la \t- 4880\n",
            "ITERACIÓN 73\tMas frecuente: ke:mah \t- 4836\n",
            "ITERACIÓN 74\tMas frecuente: zo \t- 4820\n",
            "ITERACIÓN 75\tMas frecuente: zan \t- 4731\n",
            "ITERACIÓN 76\tMas frecuente: auh \t- 4713\n",
            "ITERACIÓN 77\tMas frecuente: tle \t- 4611\n",
            "ITERACIÓN 78\tMas frecuente: xo \t- 4510\n",
            "ITERACIÓN 79\tMas frecuente: ze: \t- 4375\n",
            "ITERACIÓN 80\tMas frecuente: ah \t- 4337\n",
            "ITERACIÓN 81\tMas frecuente: ipan \t- 4331\n",
            "ITERACIÓN 82\tMas frecuente: no: \t- 4214\n",
            "ITERACIÓN 83\tMas frecuente: tzi:n \t- 4132\n",
            "ITERACIÓN 84\tMas frecuente: tin \t- 3970\n",
            "ITERACIÓN 85\tMas frecuente: mochi \t- 3967\n",
            "ITERACIÓN 86\tMas frecuente: tlan \t- 3952\n",
            "ITERACIÓN 87\tMas frecuente: n' \t- 3935\n",
            "ITERACIÓN 88\tMas frecuente: inic \t- 3767\n",
            "ITERACIÓN 89\tMas frecuente: a:mo \t- 3700\n",
            "ITERACIÓN 90\tMas frecuente: liz \t- 3632\n",
            "ITERACIÓN 91\tMas frecuente: yehua \t- 3616\n",
            "ITERACIÓN 92\tMas frecuente: quin \t- 3616\n",
            "ITERACIÓN 93\tMas frecuente: ih \t- 3609\n",
            "ITERACIÓN 94\tMas frecuente: :hua \t- 3545\n",
            "ITERACIÓN 95\tMas frecuente: ra \t- 3440\n",
            "ITERACIÓN 96\tMas frecuente: xihuitl \t- 3325\n",
            "ITERACIÓN 97\tMas frecuente: ro \t- 3298\n",
            "ITERACIÓN 98\tMas frecuente: hual \t- 3211\n",
            "ITERACIÓN 99\tMas frecuente: ez \t- 3204\n",
            "ITERACIÓN 100\tMas frecuente: tlen \t- 3122\n",
            "ITERACIÓN 101\tMas frecuente: tza \t- 3052\n",
            "ITERACIÓN 102\tMas frecuente: tlahto \t- 3041\n",
            "ITERACIÓN 103\tMas frecuente: meh \t- 2831\n",
            "ITERACIÓN 104\tMas frecuente: tia \t- 2831\n",
            "ITERACIÓN 105\tMas frecuente: zen \t- 2805\n",
            "ITERACIÓN 106\tMas frecuente: lia \t- 2761\n",
            "ITERACIÓN 107\tMas frecuente: ix \t- 2737\n",
            "ITERACIÓN 108\tMas frecuente: al \t- 2713\n",
            "ITERACIÓN 109\tMas frecuente: ite \t- 2704\n",
            "ITERACIÓN 110\tMas frecuente: iz \t- 2691\n",
            "ITERACIÓN 111\tMas frecuente: poz \t- 2685\n",
            "ITERACIÓN 112\tMas frecuente: catl \t- 2597\n",
            "ITERACIÓN 113\tMas frecuente: ne: \t- 2426\n",
            "ITERACIÓN 114\tMas frecuente: mati \t- 2399\n",
            "ITERACIÓN 115\tMas frecuente: ne:n \t- 2374\n",
            "ITERACIÓN 116\tMas frecuente: ompa \t- 2360\n",
            "ITERACIÓN 117\tMas frecuente: amo \t- 2336\n",
            "ITERACIÓN 118\tMas frecuente: toca \t- 2304\n",
            "ITERACIÓN 119\tMas frecuente: ta: \t- 2254\n",
            "ITERACIÓN 120\tMas frecuente: mote \t- 2205\n",
            "ITERACIÓN 121\tMas frecuente: tik \t- 2175\n",
            "ITERACIÓN 122\tMas frecuente: oz \t- 2133\n",
            "ITERACIÓN 123\tMas frecuente: ahua \t- 2038\n",
            "ITERACIÓN 124\tMas frecuente: le \t- 2037\n",
            "ITERACIÓN 125\tMas frecuente: para \t- 1994\n",
            "ITERACIÓN 126\tMas frecuente: ia \t- 1984\n",
            "ITERACIÓN 127\tMas frecuente: oc \t- 1959\n",
            "ITERACIÓN 128\tMas frecuente: oncan \t- 1904\n",
            "ITERACIÓN 129\tMas frecuente: uan \t- 1897\n",
            "ITERACIÓN 130\tMas frecuente: oqui \t- 1849\n",
            "ITERACIÓN 131\tMas frecuente: ica \t- 1838\n",
            "ITERACIÓN 132\tMas frecuente: cue \t- 1824\n",
            "ITERACIÓN 133\tMas frecuente: tepe \t- 1816\n",
            "ITERACIÓN 134\tMas frecuente: pero \t- 1797\n",
            "ITERACIÓN 135\tMas frecuente: motla \t- 1787\n",
            "ITERACIÓN 136\tMas frecuente: nochi \t- 1765\n",
            "ITERACIÓN 137\tMas frecuente: tica \t- 1749\n",
            "ITERACIÓN 138\tMas frecuente: ka: \t- 1732\n",
            "ITERACIÓN 139\tMas frecuente: :ni \t- 1712\n",
            "ITERACIÓN 140\tMas frecuente: ki: \t- 1688\n",
            "ITERACIÓN 141\tMas frecuente: cuac \t- 1670\n",
            "ITERACIÓN 142\tMas frecuente: ue \t- 1669\n",
            "ITERACIÓN 143\tMas frecuente: tic \t- 1633\n",
            "ITERACIÓN 144\tMas frecuente: ika \t- 1631\n",
            "ITERACIÓN 145\tMas frecuente: lhui \t- 1627\n",
            "ITERACIÓN 146\tMas frecuente: huetl \t- 1625\n",
            "ITERACIÓN 147\tMas frecuente: niman \t- 1583\n",
            "ITERACIÓN 148\tMas frecuente: ma: \t- 1565\n",
            "ITERACIÓN 149\tMas frecuente: tlaca \t- 1546\n",
            "ITERACIÓN 150\tMas frecuente: re \t- 1545\n",
            "ITERACIÓN 151\tMas frecuente: aya \t- 1539\n",
            "ITERACIÓN 152\tMas frecuente: mexi \t- 1531\n",
            "ITERACIÓN 153\tMas frecuente: tok \t- 1525\n",
            "ITERACIÓN 154\tMas frecuente: :chi \t- 1500\n",
            "ITERACIÓN 155\tMas frecuente: zah \t- 1498\n",
            "ITERACIÓN 156\tMas frecuente: do \t- 1496\n",
            "ITERACIÓN 157\tMas frecuente: cal \t- 1476\n"
          ]
        }
      ]
    },
    {
      "cell_type": "code",
      "metadata": {
        "colab": {
          "base_uri": "https://localhost:8080/"
        },
        "id": "Njar_1sppHI_",
        "outputId": "8054070c-df87-4553-fd20-4400ec200a1e"
      },
      "source": [
        "nuevo_español,h_español = BPE(corpus_español,157)"
      ],
      "execution_count": null,
      "outputs": [
        {
          "output_type": "stream",
          "name": "stdout",
          "text": [
            "ITERACIÓN 1\tMas frecuente: es \t- 53716\n",
            "ITERACIÓN 2\tMas frecuente: en \t- 46203\n",
            "ITERACIÓN 3\tMas frecuente: os \t- 42085\n",
            "ITERACIÓN 4\tMas frecuente: de \t- 39247\n",
            "ITERACIÓN 5\tMas frecuente: la \t- 38424\n",
            "ITERACIÓN 6\tMas frecuente: an \t- 31660\n",
            "ITERACIÓN 7\tMas frecuente: ue \t- 31523\n",
            "ITERACIÓN 8\tMas frecuente: er \t- 27271\n",
            "ITERACIÓN 9\tMas frecuente: ar \t- 27167\n",
            "ITERACIÓN 10\tMas frecuente: on \t- 27050\n",
            "ITERACIÓN 11\tMas frecuente: as \t- 26786\n",
            "ITERACIÓN 12\tMas frecuente: se \t- 23348\n",
            "ITERACIÓN 13\tMas frecuente: que \t- 21241\n",
            "ITERACIÓN 14\tMas frecuente: or \t- 20510\n",
            "ITERACIÓN 15\tMas frecuente: al \t- 20381\n",
            "ITERACIÓN 16\tMas frecuente: el \t- 18469\n",
            "ITERACIÓN 17\tMas frecuente: te \t- 16941\n",
            "ITERACIÓN 18\tMas frecuente: co \t- 15562\n",
            "ITERACIÓN 19\tMas frecuente: ta \t- 14796\n",
            "ITERACIÓN 20\tMas frecuente: to \t- 14391\n",
            "ITERACIÓN 21\tMas frecuente: ci \t- 14193\n",
            "ITERACIÓN 22\tMas frecuente: do \t- 13979\n",
            "ITERACIÓN 23\tMas frecuente: ti \t- 12615\n",
            "ITERACIÓN 24\tMas frecuente: re \t- 12423\n",
            "ITERACIÓN 25\tMas frecuente: los \t- 12374\n",
            "ITERACIÓN 26\tMas frecuente: un \t- 12321\n",
            "ITERACIÓN 27\tMas frecuente: lo \t- 11835\n",
            "ITERACIÓN 28\tMas frecuente: di \t- 11595\n",
            "ITERACIÓN 29\tMas frecuente: ch \t- 11458\n",
            "ITERACIÓN 30\tMas frecuente: tr \t- 10961\n",
            "ITERACIÓN 31\tMas frecuente: no \t- 10594\n",
            "ITERACIÓN 32\tMas frecuente: da \t- 10446\n",
            "ITERACIÓN 33\tMas frecuente: ca \t- 9583\n",
            "ITERACIÓN 34\tMas frecuente: in \t- 9040\n",
            "ITERACIÓN 35\tMas frecuente: cu \t- 8917\n",
            "ITERACIÓN 36\tMas frecuente: las \t- 8629\n",
            "ITERACIÓN 37\tMas frecuente: le \t- 8372\n",
            "ITERACIÓN 38\tMas frecuente: si \t- 8364\n",
            "ITERACIÓN 39\tMas frecuente: con \t- 8152\n",
            "ITERACIÓN 40\tMas frecuente: ma \t- 7841\n",
            "ITERACIÓN 41\tMas frecuente: par \t- 7740\n",
            "ITERACIÓN 42\tMas frecuente: mi \t- 7706\n",
            "ITERACIÓN 43\tMas frecuente: su \t- 7147\n",
            "ITERACIÓN 44\tMas frecuente: ab \t- 6994\n",
            "ITERACIÓN 45\tMas frecuente: mo \t- 6955\n",
            "ITERACIÓN 46\tMas frecuente: ra \t- 6576\n",
            "ITERACIÓN 47\tMas frecuente: qu \t- 6551\n",
            "ITERACIÓN 48\tMas frecuente: por \t- 6306\n",
            "ITERACIÓN 49\tMas frecuente: me \t- 6103\n",
            "ITERACIÓN 50\tMas frecuente: mb \t- 6065\n",
            "ITERACIÓN 51\tMas frecuente: li \t- 5558\n",
            "ITERACIÓN 52\tMas frecuente: mu \t- 5335\n",
            "ITERACIÓN 53\tMas frecuente: vi \t- 5295\n",
            "ITERACIÓN 54\tMas frecuente: ac \t- 5213\n",
            "ITERACIÓN 55\tMas frecuente: go \t- 5131\n",
            "ITERACIÓN 56\tMas frecuente: pu \t- 4999\n",
            "ITERACIÓN 57\tMas frecuente: para \t- 4963\n",
            "ITERACIÓN 58\tMas frecuente: ri \t- 4888\n",
            "ITERACIÓN 59\tMas frecuente: cas \t- 4492\n",
            "ITERACIÓN 60\tMas frecuente: per \t- 4397\n",
            "ITERACIÓN 61\tMas frecuente: pa \t- 4340\n",
            "ITERACIÓN 62\tMas frecuente: po \t- 4304\n",
            "ITERACIÓN 63\tMas frecuente: ro \t- 4301\n",
            "ITERACIÓN 64\tMas frecuente: dos \t- 4199\n",
            "ITERACIÓN 65\tMas frecuente: del \t- 4145\n",
            "ITERACIÓN 66\tMas frecuente: ón \t- 4097\n",
            "ITERACIÓN 67\tMas frecuente: ya \t- 4040\n",
            "ITERACIÓN 68\tMas frecuente: des \t- 4022\n",
            "ITERACIÓN 69\tMas frecuente: mos \t- 3945\n",
            "ITERACIÓN 70\tMas frecuente: ía \t- 3874\n",
            "ITERACIÓN 71\tMas frecuente: ent \t- 3830\n",
            "ITERACIÓN 72\tMas frecuente: gu \t- 3795\n",
            "ITERACIÓN 73\tMas frecuente: so \t- 3675\n",
            "ITERACIÓN 74\tMas frecuente: ando \t- 3655\n",
            "ITERACIÓN 75\tMas frecuente: hu \t- 3592\n",
            "ITERACIÓN 76\tMas frecuente: én \t- 3539\n",
            "ITERACIÓN 77\tMas frecuente: tla \t- 3513\n",
            "ITERACIÓN 78\tMas frecuente: qui \t- 3429\n",
            "ITERACIÓN 79\tMas frecuente: son \t- 3421\n",
            "ITERACIÓN 80\tMas frecuente: pe \t- 3357\n",
            "ITERACIÓN 81\tMas frecuente: tu \t- 3348\n",
            "ITERACIÓN 82\tMas frecuente: pi \t- 3339\n",
            "ITERACIÓN 83\tMas frecuente: ve \t- 3330\n",
            "ITERACIÓN 84\tMas frecuente: lla \t- 3314\n",
            "ITERACIÓN 85\tMas frecuente: mbi \t- 3285\n",
            "ITERACIÓN 86\tMas frecuente: tz \t- 3238\n",
            "ITERACIÓN 87\tMas frecuente: ha \t- 3227\n",
            "ITERACIÓN 88\tMas frecuente: como \t- 3214\n",
            "ITERACIÓN 89\tMas frecuente: ente \t- 3181\n",
            "ITERACIÓN 90\tMas frecuente: ba \t- 3158\n",
            "ITERACIÓN 91\tMas frecuente: tambi \t- 3155\n",
            "ITERACIÓN 92\tMas frecuente: también \t- 3097\n",
            "ITERACIÓN 93\tMas frecuente: ce \t- 3067\n",
            "ITERACIÓN 94\tMas frecuente: pues \t- 3030\n",
            "ITERACIÓN 95\tMas frecuente: yo \t- 3027\n",
            "ITERACIÓN 96\tMas frecuente: así \t- 3022\n",
            "ITERACIÓN 97\tMas frecuente: sí \t- 3005\n",
            "ITERACIÓN 98\tMas frecuente: res \t- 2954\n",
            "ITERACIÓN 99\tMas frecuente: ran \t- 2951\n",
            "ITERACIÓN 100\tMas frecuente: na \t- 2912\n",
            "ITERACIÓN 101\tMas frecuente: añ \t- 2824\n",
            "ITERACIÓN 102\tMas frecuente: este \t- 2808\n",
            "ITERACIÓN 103\tMas frecuente: don \t- 2780\n",
            "ITERACIÓN 104\tMas frecuente: tra \t- 2762\n",
            "ITERACIÓN 105\tMas frecuente: est \t- 2759\n",
            "ITERACIÓN 106\tMas frecuente: mar \t- 2737\n",
            "ITERACIÓN 107\tMas frecuente: tro \t- 2673\n",
            "ITERACIÓN 108\tMas frecuente: lor \t- 2657\n",
            "ITERACIÓN 109\tMas frecuente: man \t- 2655\n",
            "ITERACIÓN 110\tMas frecuente: esta \t- 2640\n",
            "ITERACIÓN 111\tMas frecuente: chi \t- 2625\n",
            "ITERACIÓN 112\tMas frecuente: ten \t- 2621\n",
            "ITERACIÓN 113\tMas frecuente: ces \t- 2609\n",
            "ITERACIÓN 114\tMas frecuente: bi \t- 2576\n",
            "ITERACIÓN 115\tMas frecuente: cho \t- 2561\n",
            "ITERACIÓN 116\tMas frecuente: les \t- 2545\n",
            "ITERACIÓN 117\tMas frecuente: xi \t- 2539\n",
            "ITERACIÓN 118\tMas frecuente: ás \t- 2509\n",
            "ITERACIÓN 119\tMas frecuente: san \t- 2497\n",
            "ITERACIÓN 120\tMas frecuente: hi \t- 2490\n",
            "ITERACIÓN 121\tMas frecuente: tos \t- 2470\n",
            "ITERACIÓN 122\tMas frecuente: una \t- 2457\n",
            "ITERACIÓN 123\tMas frecuente: tien \t- 2364\n",
            "ITERACIÓN 124\tMas frecuente: jo \t- 2319\n",
            "ITERACIÓN 125\tMas frecuente: pero \t- 2319\n",
            "ITERACIÓN 126\tMas frecuente: eron \t- 2314\n",
            "ITERACIÓN 127\tMas frecuente: fue \t- 2298\n",
            "ITERACIÓN 128\tMas frecuente: ven \t- 2295\n",
            "ITERACIÓN 129\tMas frecuente: com \t- 2286\n",
            "ITERACIÓN 130\tMas frecuente: aron \t- 2276\n",
            "ITERACIÓN 131\tMas frecuente: ah \t- 2262\n",
            "ITERACIÓN 132\tMas frecuente: ho \t- 2219\n",
            "ITERACIÓN 133\tMas frecuente: lan \t- 2201\n",
            "ITERACIÓN 134\tMas frecuente: señ \t- 2185\n",
            "ITERACIÓN 135\tMas frecuente: dad \t- 2168\n",
            "ITERACIÓN 136\tMas frecuente: sus \t- 2152\n",
            "ITERACIÓN 137\tMas frecuente: ción \t- 2119\n",
            "ITERACIÓN 138\tMas frecuente: za \t- 2089\n",
            "ITERACIÓN 139\tMas frecuente: muy \t- 2085\n",
            "ITERACIÓN 140\tMas frecuente: án \t- 2066\n",
            "ITERACIÓN 141\tMas frecuente: nos \t- 2063\n",
            "ITERACIÓN 142\tMas frecuente: cuando \t- 2058\n",
            "ITERACIÓN 143\tMas frecuente: tes \t- 2057\n",
            "ITERACIÓN 144\tMas frecuente: va \t- 2057\n",
            "ITERACIÓN 145\tMas frecuente: ga \t- 2047\n",
            "ITERACIÓN 146\tMas frecuente: era \t- 2016\n",
            "ITERACIÓN 147\tMas frecuente: ora \t- 1975\n",
            "ITERACIÓN 148\tMas frecuente: us \t- 1962\n",
            "ITERACIÓN 149\tMas frecuente: fi \t- 1893\n",
            "ITERACIÓN 150\tMas frecuente: tl \t- 1890\n",
            "ITERACIÓN 151\tMas frecuente: pre \t- 1885\n",
            "ITERACIÓN 152\tMas frecuente: du \t- 1867\n",
            "ITERACIÓN 153\tMas frecuente: ver \t- 1866\n",
            "ITERACIÓN 154\tMas frecuente: hac \t- 1837\n",
            "ITERACIÓN 155\tMas frecuente: tas \t- 1835\n",
            "ITERACIÓN 156\tMas frecuente: jas \t- 1818\n",
            "ITERACIÓN 157\tMas frecuente: tzin \t- 1815\n"
          ]
        }
      ]
    },
    {
      "cell_type": "code",
      "metadata": {
        "id": "5AncpGSJBDzF"
      },
      "source": [
        "with open(\"/content/drive/MyDrive/IngenieriaComputacion/NLP/Tenolli/tokens_paralelos.txt\",\"w\") as file:\n",
        "  for esp, nah in zip(nuevo_español,nuevo_nahuatl):\n",
        "    file.write(nah+\"\\t\"+esp+\"\\n\")"
      ],
      "execution_count": null,
      "outputs": []
    },
    {
      "cell_type": "markdown",
      "metadata": {
        "id": "1MUihUqGlRNv"
      },
      "source": [
        "# Resultados"
      ]
    },
    {
      "cell_type": "markdown",
      "metadata": {
        "id": "-HRuHAv0muuX"
      },
      "source": [
        "## Gráfica de evolución de la entropía separada por lengua"
      ]
    },
    {
      "cell_type": "code",
      "metadata": {
        "colab": {
          "base_uri": "https://localhost:8080/"
        },
        "id": "f-EcBUa9WHb4",
        "outputId": "fdca560a-4612-4799-a4c7-7d0c3de87b04"
      },
      "source": [
        "# mostrando la entropia \n",
        "plt.plot(range(1,len(h_nahuatl)+1),h_nahuatl,c=\"red\")\n",
        "plt.title(\"Entropía del Nahuatl\")\n",
        "plt.show()"
      ],
      "execution_count": null,
      "outputs": [
        {
          "output_type": "display_data",
          "data": {
            "image/png": "[encoded data removed]",
            "text/plain": [
              "<Figure size 432x288 with 1 Axes>"
            ]
          },
          "metadata": {
            "needs_background": "light"
          }
        }
      ]
    },
    {
      "cell_type": "code",
      "metadata": {
        "colab": {
          "base_uri": "https://localhost:8080/"
        },
        "id": "kqetUWk2YBAa",
        "outputId": "ad9ae0c2-5701-4615-f2a5-55b9f050d138"
      },
      "source": [
        "plt.plot(range(1,len(h_español)+1),h_español,c=\"blue\")\n",
        "plt.title(\"Entropía del español\")\n",
        "plt.show()"
      ],
      "execution_count": null,
      "outputs": [
        {
          "output_type": "display_data",
          "data": {
            "image/png": "[encoded data removed]",
            "text/plain": [
              "<Figure size 432x288 with 1 Axes>"
            ]
          },
          "metadata": {
            "needs_background": "light"
          }
        }
      ]
    },
    {
      "cell_type": "markdown",
      "metadata": {
        "id": "dueTrQ-km6vP"
      },
      "source": [
        "## Gráfica de la evolución de la entropía de ambas lenguas"
      ]
    },
    {
      "cell_type": "code",
      "metadata": {
        "colab": {
          "base_uri": "https://localhost:8080/"
        },
        "id": "IOrnHUjHzMqQ",
        "outputId": "8a5c290f-394c-4cd8-b1cc-fa24a3c7caff"
      },
      "source": [
        "plt.plot(range(1,len(h_español)+1),h_español,c=\"blue\",label=\"español\")\n",
        "plt.plot(range(1,len(h_nahuatl)+1),h_nahuatl,c=\"red\",label=\"nahuatl\")\n",
        "plt.title(\"Entropía del español-nahuatl\")\n",
        "plt.legend()\n",
        "plt.show()"
      ],
      "execution_count": null,
      "outputs": [
        {
          "output_type": "display_data",
          "data": {
            "image/png": "[encoded data removed]",
            "text/plain": [
              "<Figure size 432x288 with 1 Axes>"
            ]
          },
          "metadata": {
            "needs_background": "light"
          }
        }
      ]
    },
    {
      "cell_type": "markdown",
      "metadata": {
        "id": "yAi-cXtBnOUQ"
      },
      "source": [
        "## Curvas de Zipf"
      ]
    },
    {
      "cell_type": "code",
      "metadata": {
        "colab": {
          "base_uri": "https://localhost:8080/"
        },
        "id": "1NnijMbKnbkn",
        "outputId": "7f61309f-02cf-4950-9177-ba03cf6dd00d"
      },
      "source": [
        "from itertools import chain\n",
        "freqs_nahuatl = Counter(list(chain(*[oracion.split(\" \") \n",
        "                      for oracion in nuevo_nahuatl])))\n",
        "freqs_español = Counter(list(chain(*[oracion.split(\" \") \n",
        "                      for oracion in nuevo_español])))\n",
        "zipf_nahuatl = [x[1] for x in freqs_ordenado(freqs_nahuatl)]\n",
        "zipf_español = [x[1] for x in freqs_ordenado(freqs_español)]\n",
        "\n",
        "plt.scatter(range(len(zipf_nahuatl)),zipf_nahuatl,color=\"red\",label=\"Nahuatl\")\n",
        "plt.scatter(range(len(zipf_español)),zipf_español,color=\"blue\",label=\"Español\")\n",
        "plt.yscale(\"log\")\n",
        "plt.legend()\n",
        "plt.ylabel(\"Frecuencias log\")\n",
        "plt.xlabel(\"Grupos de palabras\")\n",
        "plt.title(\"Curvas de zipf después de BPE\")\n",
        "plt.show()"
      ],
      "execution_count": null,
      "outputs": [
        {
          "output_type": "display_data",
          "data": {
            "image/png": "[encoded data removed]",
            "text/plain": [
              "<Figure size 432x288 with 1 Axes>"
            ]
          },
          "metadata": {
            "needs_background": "light"
          }
        }
      ]
    }
  ]
}